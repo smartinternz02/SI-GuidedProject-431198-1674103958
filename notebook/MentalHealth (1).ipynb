{
 "cells": [
  {
   "cell_type": "markdown",
   "metadata": {
    "id": "F3qrInprKpeG"
   },
   "source": [
    "#Preprocessing"
   ]
  },
  {
   "cell_type": "code",
   "execution_count": 1,
   "metadata": {
    "id": "qIE0JXK28KjH"
   },
   "outputs": [],
   "source": [
    "#importing libraries\n",
    "import pandas as pd\n",
    "import numpy as np\n",
    "import matplotlib.pyplot as plt\n",
    "import seaborn as sb\n",
    "from sklearn.metrics import confusion_matrix\n",
    "\n"
   ]
  },
  {
   "cell_type": "code",
   "execution_count": 2,
   "metadata": {
    "id": "oBD77ZaT98iL",
    "scrolled": true
   },
   "outputs": [],
   "source": [
    "#reading data\n",
    "data = pd.read_csv('survey.csv')"
   ]
  },
  {
   "cell_type": "code",
   "execution_count": 3,
   "metadata": {
    "colab": {
     "base_uri": "https://localhost:8080/",
     "height": 473
    },
    "id": "xUd2lK9V-G1_",
    "outputId": "833d22a5-8f6b-4e3b-b732-e4268bb1832c"
   },
   "outputs": [
    {
     "data": {
      "text/html": [
       "<div>\n",
       "<style scoped>\n",
       "    .dataframe tbody tr th:only-of-type {\n",
       "        vertical-align: middle;\n",
       "    }\n",
       "\n",
       "    .dataframe tbody tr th {\n",
       "        vertical-align: top;\n",
       "    }\n",
       "\n",
       "    .dataframe thead th {\n",
       "        text-align: right;\n",
       "    }\n",
       "</style>\n",
       "<table border=\"1\" class=\"dataframe\">\n",
       "  <thead>\n",
       "    <tr style=\"text-align: right;\">\n",
       "      <th></th>\n",
       "      <th>Timestamp</th>\n",
       "      <th>Age</th>\n",
       "      <th>Gender</th>\n",
       "      <th>Country</th>\n",
       "      <th>state</th>\n",
       "      <th>self_employed</th>\n",
       "      <th>family_history</th>\n",
       "      <th>treatment</th>\n",
       "      <th>work_interfere</th>\n",
       "      <th>no_employees</th>\n",
       "      <th>...</th>\n",
       "      <th>leave</th>\n",
       "      <th>mental_health_consequence</th>\n",
       "      <th>phys_health_consequence</th>\n",
       "      <th>coworkers</th>\n",
       "      <th>supervisor</th>\n",
       "      <th>mental_health_interview</th>\n",
       "      <th>phys_health_interview</th>\n",
       "      <th>mental_vs_physical</th>\n",
       "      <th>obs_consequence</th>\n",
       "      <th>comments</th>\n",
       "    </tr>\n",
       "  </thead>\n",
       "  <tbody>\n",
       "    <tr>\n",
       "      <th>0</th>\n",
       "      <td>2014-08-27 11:29:31</td>\n",
       "      <td>37</td>\n",
       "      <td>Female</td>\n",
       "      <td>United States</td>\n",
       "      <td>IL</td>\n",
       "      <td>NaN</td>\n",
       "      <td>No</td>\n",
       "      <td>Yes</td>\n",
       "      <td>Often</td>\n",
       "      <td>6-25</td>\n",
       "      <td>...</td>\n",
       "      <td>Somewhat easy</td>\n",
       "      <td>No</td>\n",
       "      <td>No</td>\n",
       "      <td>Some of them</td>\n",
       "      <td>Yes</td>\n",
       "      <td>No</td>\n",
       "      <td>Maybe</td>\n",
       "      <td>Yes</td>\n",
       "      <td>No</td>\n",
       "      <td>NaN</td>\n",
       "    </tr>\n",
       "    <tr>\n",
       "      <th>1</th>\n",
       "      <td>2014-08-27 11:29:37</td>\n",
       "      <td>44</td>\n",
       "      <td>M</td>\n",
       "      <td>United States</td>\n",
       "      <td>IN</td>\n",
       "      <td>NaN</td>\n",
       "      <td>No</td>\n",
       "      <td>No</td>\n",
       "      <td>Rarely</td>\n",
       "      <td>More than 1000</td>\n",
       "      <td>...</td>\n",
       "      <td>Don't know</td>\n",
       "      <td>Maybe</td>\n",
       "      <td>No</td>\n",
       "      <td>No</td>\n",
       "      <td>No</td>\n",
       "      <td>No</td>\n",
       "      <td>No</td>\n",
       "      <td>Don't know</td>\n",
       "      <td>No</td>\n",
       "      <td>NaN</td>\n",
       "    </tr>\n",
       "    <tr>\n",
       "      <th>2</th>\n",
       "      <td>2014-08-27 11:29:44</td>\n",
       "      <td>32</td>\n",
       "      <td>Male</td>\n",
       "      <td>Canada</td>\n",
       "      <td>NaN</td>\n",
       "      <td>NaN</td>\n",
       "      <td>No</td>\n",
       "      <td>No</td>\n",
       "      <td>Rarely</td>\n",
       "      <td>6-25</td>\n",
       "      <td>...</td>\n",
       "      <td>Somewhat difficult</td>\n",
       "      <td>No</td>\n",
       "      <td>No</td>\n",
       "      <td>Yes</td>\n",
       "      <td>Yes</td>\n",
       "      <td>Yes</td>\n",
       "      <td>Yes</td>\n",
       "      <td>No</td>\n",
       "      <td>No</td>\n",
       "      <td>NaN</td>\n",
       "    </tr>\n",
       "    <tr>\n",
       "      <th>3</th>\n",
       "      <td>2014-08-27 11:29:46</td>\n",
       "      <td>31</td>\n",
       "      <td>Male</td>\n",
       "      <td>United Kingdom</td>\n",
       "      <td>NaN</td>\n",
       "      <td>NaN</td>\n",
       "      <td>Yes</td>\n",
       "      <td>Yes</td>\n",
       "      <td>Often</td>\n",
       "      <td>26-100</td>\n",
       "      <td>...</td>\n",
       "      <td>Somewhat difficult</td>\n",
       "      <td>Yes</td>\n",
       "      <td>Yes</td>\n",
       "      <td>Some of them</td>\n",
       "      <td>No</td>\n",
       "      <td>Maybe</td>\n",
       "      <td>Maybe</td>\n",
       "      <td>No</td>\n",
       "      <td>Yes</td>\n",
       "      <td>NaN</td>\n",
       "    </tr>\n",
       "    <tr>\n",
       "      <th>4</th>\n",
       "      <td>2014-08-27 11:30:22</td>\n",
       "      <td>31</td>\n",
       "      <td>Male</td>\n",
       "      <td>United States</td>\n",
       "      <td>TX</td>\n",
       "      <td>NaN</td>\n",
       "      <td>No</td>\n",
       "      <td>No</td>\n",
       "      <td>Never</td>\n",
       "      <td>100-500</td>\n",
       "      <td>...</td>\n",
       "      <td>Don't know</td>\n",
       "      <td>No</td>\n",
       "      <td>No</td>\n",
       "      <td>Some of them</td>\n",
       "      <td>Yes</td>\n",
       "      <td>Yes</td>\n",
       "      <td>Yes</td>\n",
       "      <td>Don't know</td>\n",
       "      <td>No</td>\n",
       "      <td>NaN</td>\n",
       "    </tr>\n",
       "  </tbody>\n",
       "</table>\n",
       "<p>5 rows × 27 columns</p>\n",
       "</div>"
      ],
      "text/plain": [
       "             Timestamp  Age  Gender         Country state self_employed  \\\n",
       "0  2014-08-27 11:29:31   37  Female   United States    IL           NaN   \n",
       "1  2014-08-27 11:29:37   44       M   United States    IN           NaN   \n",
       "2  2014-08-27 11:29:44   32    Male          Canada   NaN           NaN   \n",
       "3  2014-08-27 11:29:46   31    Male  United Kingdom   NaN           NaN   \n",
       "4  2014-08-27 11:30:22   31    Male   United States    TX           NaN   \n",
       "\n",
       "  family_history treatment work_interfere    no_employees  ...  \\\n",
       "0             No       Yes          Often            6-25  ...   \n",
       "1             No        No         Rarely  More than 1000  ...   \n",
       "2             No        No         Rarely            6-25  ...   \n",
       "3            Yes       Yes          Often          26-100  ...   \n",
       "4             No        No          Never         100-500  ...   \n",
       "\n",
       "                leave mental_health_consequence phys_health_consequence  \\\n",
       "0       Somewhat easy                        No                      No   \n",
       "1          Don't know                     Maybe                      No   \n",
       "2  Somewhat difficult                        No                      No   \n",
       "3  Somewhat difficult                       Yes                     Yes   \n",
       "4          Don't know                        No                      No   \n",
       "\n",
       "      coworkers supervisor mental_health_interview phys_health_interview  \\\n",
       "0  Some of them        Yes                      No                 Maybe   \n",
       "1            No         No                      No                    No   \n",
       "2           Yes        Yes                     Yes                   Yes   \n",
       "3  Some of them         No                   Maybe                 Maybe   \n",
       "4  Some of them        Yes                     Yes                   Yes   \n",
       "\n",
       "  mental_vs_physical obs_consequence comments  \n",
       "0                Yes              No      NaN  \n",
       "1         Don't know              No      NaN  \n",
       "2                 No              No      NaN  \n",
       "3                 No             Yes      NaN  \n",
       "4         Don't know              No      NaN  \n",
       "\n",
       "[5 rows x 27 columns]"
      ]
     },
     "execution_count": 3,
     "metadata": {},
     "output_type": "execute_result"
    }
   ],
   "source": [
    "data.head()"
   ]
  },
  {
   "cell_type": "code",
   "execution_count": 4,
   "metadata": {},
   "outputs": [
    {
     "data": {
      "text/html": [
       "<div>\n",
       "<style scoped>\n",
       "    .dataframe tbody tr th:only-of-type {\n",
       "        vertical-align: middle;\n",
       "    }\n",
       "\n",
       "    .dataframe tbody tr th {\n",
       "        vertical-align: top;\n",
       "    }\n",
       "\n",
       "    .dataframe thead th {\n",
       "        text-align: right;\n",
       "    }\n",
       "</style>\n",
       "<table border=\"1\" class=\"dataframe\">\n",
       "  <thead>\n",
       "    <tr style=\"text-align: right;\">\n",
       "      <th></th>\n",
       "      <th>Timestamp</th>\n",
       "      <th>Age</th>\n",
       "      <th>Gender</th>\n",
       "      <th>Country</th>\n",
       "      <th>state</th>\n",
       "      <th>self_employed</th>\n",
       "      <th>family_history</th>\n",
       "      <th>treatment</th>\n",
       "      <th>work_interfere</th>\n",
       "      <th>no_employees</th>\n",
       "      <th>...</th>\n",
       "      <th>leave</th>\n",
       "      <th>mental_health_consequence</th>\n",
       "      <th>phys_health_consequence</th>\n",
       "      <th>coworkers</th>\n",
       "      <th>supervisor</th>\n",
       "      <th>mental_health_interview</th>\n",
       "      <th>phys_health_interview</th>\n",
       "      <th>mental_vs_physical</th>\n",
       "      <th>obs_consequence</th>\n",
       "      <th>comments</th>\n",
       "    </tr>\n",
       "  </thead>\n",
       "  <tbody>\n",
       "    <tr>\n",
       "      <th>1254</th>\n",
       "      <td>2015-09-12 11:17:21</td>\n",
       "      <td>26</td>\n",
       "      <td>male</td>\n",
       "      <td>United Kingdom</td>\n",
       "      <td>NaN</td>\n",
       "      <td>No</td>\n",
       "      <td>No</td>\n",
       "      <td>Yes</td>\n",
       "      <td>NaN</td>\n",
       "      <td>26-100</td>\n",
       "      <td>...</td>\n",
       "      <td>Somewhat easy</td>\n",
       "      <td>No</td>\n",
       "      <td>No</td>\n",
       "      <td>Some of them</td>\n",
       "      <td>Some of them</td>\n",
       "      <td>No</td>\n",
       "      <td>No</td>\n",
       "      <td>Don't know</td>\n",
       "      <td>No</td>\n",
       "      <td>NaN</td>\n",
       "    </tr>\n",
       "    <tr>\n",
       "      <th>1255</th>\n",
       "      <td>2015-09-26 01:07:35</td>\n",
       "      <td>32</td>\n",
       "      <td>Male</td>\n",
       "      <td>United States</td>\n",
       "      <td>IL</td>\n",
       "      <td>No</td>\n",
       "      <td>Yes</td>\n",
       "      <td>Yes</td>\n",
       "      <td>Often</td>\n",
       "      <td>26-100</td>\n",
       "      <td>...</td>\n",
       "      <td>Somewhat difficult</td>\n",
       "      <td>No</td>\n",
       "      <td>No</td>\n",
       "      <td>Some of them</td>\n",
       "      <td>Yes</td>\n",
       "      <td>No</td>\n",
       "      <td>No</td>\n",
       "      <td>Yes</td>\n",
       "      <td>No</td>\n",
       "      <td>NaN</td>\n",
       "    </tr>\n",
       "    <tr>\n",
       "      <th>1256</th>\n",
       "      <td>2015-11-07 12:36:58</td>\n",
       "      <td>34</td>\n",
       "      <td>male</td>\n",
       "      <td>United States</td>\n",
       "      <td>CA</td>\n",
       "      <td>No</td>\n",
       "      <td>Yes</td>\n",
       "      <td>Yes</td>\n",
       "      <td>Sometimes</td>\n",
       "      <td>More than 1000</td>\n",
       "      <td>...</td>\n",
       "      <td>Somewhat difficult</td>\n",
       "      <td>Yes</td>\n",
       "      <td>Yes</td>\n",
       "      <td>No</td>\n",
       "      <td>No</td>\n",
       "      <td>No</td>\n",
       "      <td>No</td>\n",
       "      <td>No</td>\n",
       "      <td>No</td>\n",
       "      <td>NaN</td>\n",
       "    </tr>\n",
       "    <tr>\n",
       "      <th>1257</th>\n",
       "      <td>2015-11-30 21:25:06</td>\n",
       "      <td>46</td>\n",
       "      <td>f</td>\n",
       "      <td>United States</td>\n",
       "      <td>NC</td>\n",
       "      <td>No</td>\n",
       "      <td>No</td>\n",
       "      <td>No</td>\n",
       "      <td>NaN</td>\n",
       "      <td>100-500</td>\n",
       "      <td>...</td>\n",
       "      <td>Don't know</td>\n",
       "      <td>Yes</td>\n",
       "      <td>No</td>\n",
       "      <td>No</td>\n",
       "      <td>No</td>\n",
       "      <td>No</td>\n",
       "      <td>No</td>\n",
       "      <td>No</td>\n",
       "      <td>No</td>\n",
       "      <td>NaN</td>\n",
       "    </tr>\n",
       "    <tr>\n",
       "      <th>1258</th>\n",
       "      <td>2016-02-01 23:04:31</td>\n",
       "      <td>25</td>\n",
       "      <td>Male</td>\n",
       "      <td>United States</td>\n",
       "      <td>IL</td>\n",
       "      <td>No</td>\n",
       "      <td>Yes</td>\n",
       "      <td>Yes</td>\n",
       "      <td>Sometimes</td>\n",
       "      <td>26-100</td>\n",
       "      <td>...</td>\n",
       "      <td>Don't know</td>\n",
       "      <td>Maybe</td>\n",
       "      <td>No</td>\n",
       "      <td>Some of them</td>\n",
       "      <td>No</td>\n",
       "      <td>No</td>\n",
       "      <td>No</td>\n",
       "      <td>Don't know</td>\n",
       "      <td>No</td>\n",
       "      <td>NaN</td>\n",
       "    </tr>\n",
       "  </tbody>\n",
       "</table>\n",
       "<p>5 rows × 27 columns</p>\n",
       "</div>"
      ],
      "text/plain": [
       "                Timestamp  Age Gender         Country state self_employed  \\\n",
       "1254  2015-09-12 11:17:21   26   male  United Kingdom   NaN            No   \n",
       "1255  2015-09-26 01:07:35   32   Male   United States    IL            No   \n",
       "1256  2015-11-07 12:36:58   34   male   United States    CA            No   \n",
       "1257  2015-11-30 21:25:06   46      f   United States    NC            No   \n",
       "1258  2016-02-01 23:04:31   25   Male   United States    IL            No   \n",
       "\n",
       "     family_history treatment work_interfere    no_employees  ...  \\\n",
       "1254             No       Yes            NaN          26-100  ...   \n",
       "1255            Yes       Yes          Often          26-100  ...   \n",
       "1256            Yes       Yes      Sometimes  More than 1000  ...   \n",
       "1257             No        No            NaN         100-500  ...   \n",
       "1258            Yes       Yes      Sometimes          26-100  ...   \n",
       "\n",
       "                   leave mental_health_consequence phys_health_consequence  \\\n",
       "1254       Somewhat easy                        No                      No   \n",
       "1255  Somewhat difficult                        No                      No   \n",
       "1256  Somewhat difficult                       Yes                     Yes   \n",
       "1257          Don't know                       Yes                      No   \n",
       "1258          Don't know                     Maybe                      No   \n",
       "\n",
       "         coworkers    supervisor mental_health_interview  \\\n",
       "1254  Some of them  Some of them                      No   \n",
       "1255  Some of them           Yes                      No   \n",
       "1256            No            No                      No   \n",
       "1257            No            No                      No   \n",
       "1258  Some of them            No                      No   \n",
       "\n",
       "     phys_health_interview mental_vs_physical obs_consequence comments  \n",
       "1254                    No         Don't know              No      NaN  \n",
       "1255                    No                Yes              No      NaN  \n",
       "1256                    No                 No              No      NaN  \n",
       "1257                    No                 No              No      NaN  \n",
       "1258                    No         Don't know              No      NaN  \n",
       "\n",
       "[5 rows x 27 columns]"
      ]
     },
     "execution_count": 4,
     "metadata": {},
     "output_type": "execute_result"
    }
   ],
   "source": [
    "data.tail()"
   ]
  },
  {
   "cell_type": "code",
   "execution_count": 5,
   "metadata": {
    "colab": {
     "base_uri": "https://localhost:8080/"
    },
    "id": "4HNzKcNp-Mlv",
    "outputId": "feace30d-01f0-4703-ab2c-d9d5ff72103c"
   },
   "outputs": [
    {
     "data": {
      "text/plain": [
       "(1259, 27)"
      ]
     },
     "execution_count": 5,
     "metadata": {},
     "output_type": "execute_result"
    }
   ],
   "source": [
    "data.shape"
   ]
  },
  {
   "cell_type": "code",
   "execution_count": 6,
   "metadata": {
    "colab": {
     "base_uri": "https://localhost:8080/"
    },
    "id": "B5mtLSGK-IEn",
    "outputId": "0ca6c455-2b48-4285-9982-d52cf71ff4b1"
   },
   "outputs": [
    {
     "name": "stdout",
     "output_type": "stream",
     "text": [
      "<class 'pandas.core.frame.DataFrame'>\n",
      "RangeIndex: 1259 entries, 0 to 1258\n",
      "Data columns (total 27 columns):\n",
      " #   Column                     Non-Null Count  Dtype \n",
      "---  ------                     --------------  ----- \n",
      " 0   Timestamp                  1259 non-null   object\n",
      " 1   Age                        1259 non-null   int64 \n",
      " 2   Gender                     1259 non-null   object\n",
      " 3   Country                    1259 non-null   object\n",
      " 4   state                      744 non-null    object\n",
      " 5   self_employed              1241 non-null   object\n",
      " 6   family_history             1259 non-null   object\n",
      " 7   treatment                  1259 non-null   object\n",
      " 8   work_interfere             995 non-null    object\n",
      " 9   no_employees               1259 non-null   object\n",
      " 10  remote_work                1259 non-null   object\n",
      " 11  tech_company               1259 non-null   object\n",
      " 12  benefits                   1259 non-null   object\n",
      " 13  care_options               1259 non-null   object\n",
      " 14  wellness_program           1259 non-null   object\n",
      " 15  seek_help                  1259 non-null   object\n",
      " 16  anonymity                  1259 non-null   object\n",
      " 17  leave                      1259 non-null   object\n",
      " 18  mental_health_consequence  1259 non-null   object\n",
      " 19  phys_health_consequence    1259 non-null   object\n",
      " 20  coworkers                  1259 non-null   object\n",
      " 21  supervisor                 1259 non-null   object\n",
      " 22  mental_health_interview    1259 non-null   object\n",
      " 23  phys_health_interview      1259 non-null   object\n",
      " 24  mental_vs_physical         1259 non-null   object\n",
      " 25  obs_consequence            1259 non-null   object\n",
      " 26  comments                   164 non-null    object\n",
      "dtypes: int64(1), object(26)\n",
      "memory usage: 265.7+ KB\n"
     ]
    }
   ],
   "source": [
    "data.info()"
   ]
  },
  {
   "cell_type": "code",
   "execution_count": 7,
   "metadata": {
    "colab": {
     "base_uri": "https://localhost:8080/"
    },
    "id": "QsSi6jN5-KJl",
    "outputId": "242bc13a-5edf-464b-cb47-a2c8af31b7d1"
   },
   "outputs": [
    {
     "data": {
      "text/plain": [
       "United States             751\n",
       "United Kingdom            185\n",
       "Canada                     72\n",
       "Germany                    45\n",
       "Ireland                    27\n",
       "Netherlands                27\n",
       "Australia                  21\n",
       "France                     13\n",
       "India                      10\n",
       "New Zealand                 8\n",
       "Sweden                      7\n",
       "Switzerland                 7\n",
       "Poland                      7\n",
       "Italy                       7\n",
       "South Africa                6\n",
       "Brazil                      6\n",
       "Belgium                     6\n",
       "Israel                      5\n",
       "Bulgaria                    4\n",
       "Singapore                   4\n",
       "Mexico                      3\n",
       "Austria                     3\n",
       "Russia                      3\n",
       "Finland                     3\n",
       "Portugal                    2\n",
       "Greece                      2\n",
       "Denmark                     2\n",
       "Colombia                    2\n",
       "Croatia                     2\n",
       "Spain                       1\n",
       "Nigeria                     1\n",
       "Slovenia                    1\n",
       "Philippines                 1\n",
       "Georgia                     1\n",
       "Zimbabwe                    1\n",
       "Moldova                     1\n",
       "Japan                       1\n",
       "Costa Rica                  1\n",
       "Hungary                     1\n",
       "Latvia                      1\n",
       "Bahamas, The                1\n",
       "Czech Republic              1\n",
       "China                       1\n",
       "Thailand                    1\n",
       "Romania                     1\n",
       "Norway                      1\n",
       "Bosnia and Herzegovina      1\n",
       "Uruguay                     1\n",
       "Name: Country, dtype: int64"
      ]
     },
     "execution_count": 7,
     "metadata": {},
     "output_type": "execute_result"
    }
   ],
   "source": [
    "data['Country'].value_counts()"
   ]
  },
  {
   "cell_type": "code",
   "execution_count": 8,
   "metadata": {
    "colab": {
     "base_uri": "https://localhost:8080/",
     "height": 612
    },
    "id": "i_ynpl-b_GI7",
    "outputId": "2c080a9a-adad-4a84-f7e9-1e5fb875ba2c"
   },
   "outputs": [
    {
     "data": {
      "text/plain": [
       "<AxesSubplot:>"
      ]
     },
     "execution_count": 8,
     "metadata": {},
     "output_type": "execute_result"
    },
    {
     "data": {
      "image/png": "[encoded data removed]",
      "text/plain": [
       "<Figure size 720x576 with 1 Axes>"
      ]
     },
     "metadata": {
      "needs_background": "light"
     },
     "output_type": "display_data"
    }
   ],
   "source": [
    "data['Country'].value_counts().plot(kind='bar',figsize=(10,8))"
   ]
  },
  {
   "cell_type": "code",
   "execution_count": 9,
   "metadata": {
    "id": "boKdw-wt_NsD"
   },
   "outputs": [],
   "source": [
    "#Distribution of countries is not even so dropping country and state\n",
    "#Dropping Timestamp and comments as they are irrelevant\n",
    "data.drop(['Country','state','Timestamp','comments'],axis=1,inplace=True)"
   ]
  },
  {
   "cell_type": "code",
   "execution_count": 10,
   "metadata": {},
   "outputs": [
    {
     "data": {
      "text/plain": [
       "Age                            0\n",
       "Gender                         0\n",
       "self_employed                 18\n",
       "family_history                 0\n",
       "treatment                      0\n",
       "work_interfere               264\n",
       "no_employees                   0\n",
       "remote_work                    0\n",
       "tech_company                   0\n",
       "benefits                       0\n",
       "care_options                   0\n",
       "wellness_program               0\n",
       "seek_help                      0\n",
       "anonymity                      0\n",
       "leave                          0\n",
       "mental_health_consequence      0\n",
       "phys_health_consequence        0\n",
       "coworkers                      0\n",
       "supervisor                     0\n",
       "mental_health_interview        0\n",
       "phys_health_interview          0\n",
       "mental_vs_physical             0\n",
       "obs_consequence                0\n",
       "dtype: int64"
      ]
     },
     "execution_count": 10,
     "metadata": {},
     "output_type": "execute_result"
    }
   ],
   "source": [
    "data.isnull().sum()"
   ]
  },
  {
   "cell_type": "code",
   "execution_count": 11,
   "metadata": {
    "colab": {
     "base_uri": "https://localhost:8080/"
    },
    "id": "BdWmvcBSB6mt",
    "outputId": "690ca509-5b0f-4b04-9d50-9ff143068716"
   },
   "outputs": [
    {
     "data": {
      "text/plain": [
       "No     1095\n",
       "Yes     146\n",
       "Name: self_employed, dtype: int64"
      ]
     },
     "execution_count": 11,
     "metadata": {},
     "output_type": "execute_result"
    }
   ],
   "source": [
    "data['self_employed'].value_counts()"
   ]
  },
  {
   "cell_type": "code",
   "execution_count": 12,
   "metadata": {
    "id": "sT-TwJGjCDdT"
   },
   "outputs": [],
   "source": [
    "#Replacing null values with No\n",
    "data['self_employed'].fillna('No', inplace=True)"
   ]
  },
  {
   "cell_type": "code",
   "execution_count": 13,
   "metadata": {
    "colab": {
     "base_uri": "https://localhost:8080/"
    },
    "id": "XRX2ZQwIBO-J",
    "outputId": "9aaa604e-7949-47bd-b53e-7cdf6b6dd2f3"
   },
   "outputs": [
    {
     "data": {
      "text/plain": [
       "Sometimes    465\n",
       "Never        213\n",
       "Rarely       173\n",
       "Often        144\n",
       "Name: work_interfere, dtype: int64"
      ]
     },
     "execution_count": 13,
     "metadata": {},
     "output_type": "execute_result"
    }
   ],
   "source": [
    "data['work_interfere'].value_counts()"
   ]
  },
  {
   "cell_type": "code",
   "execution_count": 14,
   "metadata": {
    "id": "UoYXwIQpBZqM"
   },
   "outputs": [],
   "source": [
    "#Replacing null values with N/A\n",
    "data['work_interfere'].fillna('N/A',inplace=True)"
   ]
  },
  {
   "cell_type": "code",
   "execution_count": 15,
   "metadata": {
    "colab": {
     "base_uri": "https://localhost:8080/"
    },
    "id": "jr-B7KM_Did9",
    "outputId": "0aca328c-251a-47f7-9b3d-f9d9800efca8"
   },
   "outputs": [
    {
     "data": {
      "text/plain": [
       "Age                          0\n",
       "Gender                       0\n",
       "self_employed                0\n",
       "family_history               0\n",
       "treatment                    0\n",
       "work_interfere               0\n",
       "no_employees                 0\n",
       "remote_work                  0\n",
       "tech_company                 0\n",
       "benefits                     0\n",
       "care_options                 0\n",
       "wellness_program             0\n",
       "seek_help                    0\n",
       "anonymity                    0\n",
       "leave                        0\n",
       "mental_health_consequence    0\n",
       "phys_health_consequence      0\n",
       "coworkers                    0\n",
       "supervisor                   0\n",
       "mental_health_interview      0\n",
       "phys_health_interview        0\n",
       "mental_vs_physical           0\n",
       "obs_consequence              0\n",
       "dtype: int64"
      ]
     },
     "execution_count": 15,
     "metadata": {},
     "output_type": "execute_result"
    }
   ],
   "source": [
    "data.isnull().sum()"
   ]
  },
  {
   "cell_type": "code",
   "execution_count": 16,
   "metadata": {
    "colab": {
     "base_uri": "https://localhost:8080/"
    },
    "id": "4AqVXVWjDjuW",
    "outputId": "4e76035c-4134-4933-f342-1cad4bb44dd7"
   },
   "outputs": [
    {
     "data": {
      "text/plain": [
       " 29             85\n",
       " 32             82\n",
       " 26             75\n",
       " 27             71\n",
       " 33             70\n",
       " 28             68\n",
       " 31             67\n",
       " 34             65\n",
       " 30             63\n",
       " 25             61\n",
       " 35             55\n",
       " 23             51\n",
       " 24             46\n",
       " 37             43\n",
       " 38             39\n",
       " 36             37\n",
       " 39             33\n",
       " 40             33\n",
       " 43             28\n",
       " 22             21\n",
       " 41             21\n",
       " 42             20\n",
       " 21             16\n",
       " 46             12\n",
       " 45             12\n",
       " 44             11\n",
       " 19              9\n",
       " 18              7\n",
       " 20              6\n",
       " 48              6\n",
       " 50              6\n",
       " 51              5\n",
       " 49              4\n",
       " 56              4\n",
       " 57              3\n",
       " 55              3\n",
       " 54              3\n",
       " 60              2\n",
       " 47              2\n",
       " 72              1\n",
       "-29              1\n",
       " 62              1\n",
       " 329             1\n",
       " 65              1\n",
       "-1726            1\n",
       "-1               1\n",
       " 61              1\n",
       " 58              1\n",
       " 53              1\n",
       " 5               1\n",
       " 11              1\n",
       " 8               1\n",
       " 99999999999     1\n",
       "Name: Age, dtype: int64"
      ]
     },
     "execution_count": 16,
     "metadata": {},
     "output_type": "execute_result"
    }
   ],
   "source": [
    "data['Age'].value_counts()"
   ]
  },
  {
   "cell_type": "code",
   "execution_count": 17,
   "metadata": {},
   "outputs": [
    {
     "data": {
      "text/plain": [
       "<AxesSubplot:>"
      ]
     },
     "execution_count": 17,
     "metadata": {},
     "output_type": "execute_result"
    },
    {
     "data": {
      "image/png": "[encoded data removed]",
      "text/plain": [
       "<Figure size 720x576 with 1 Axes>"
      ]
     },
     "metadata": {
      "needs_background": "light"
     },
     "output_type": "display_data"
    }
   ],
   "source": [
    "data['Age'].value_counts().plot(kind='bar',figsize=(10,8))"
   ]
  },
  {
   "cell_type": "code",
   "execution_count": 18,
   "metadata": {
    "id": "Y7Ku5GYhDo5V"
   },
   "outputs": [],
   "source": [
    "#Removing rows that have impractical values for age\n",
    "data.drop(data[(data['Age']>60) | (data['Age']<18)].index, inplace=True)"
   ]
  },
  {
   "cell_type": "code",
   "execution_count": 19,
   "metadata": {
    "id": "eo_ByFKXH5JA"
   },
   "outputs": [],
   "source": [
    "#Resetting the index\n",
    "data.reset_index(drop=True, inplace=True)"
   ]
  },
  {
   "cell_type": "code",
   "execution_count": 20,
   "metadata": {
    "colab": {
     "base_uri": "https://localhost:8080/"
    },
    "id": "jTmfaJJSIGjh",
    "outputId": "8a90d39c-0c65-4720-d2e4-5e8a8faff90a"
   },
   "outputs": [
    {
     "data": {
      "text/plain": [
       "Male                                              611\n",
       "male                                              203\n",
       "Female                                            120\n",
       "M                                                 115\n",
       "female                                             62\n",
       "F                                                  38\n",
       "m                                                  34\n",
       "f                                                  15\n",
       "Make                                                4\n",
       "Woman                                               3\n",
       "Male                                                3\n",
       "Female                                              2\n",
       "Cis Male                                            2\n",
       "Female (trans)                                      2\n",
       "Man                                                 2\n",
       "Male (CIS)                                          1\n",
       "Female (cis)                                        1\n",
       "maile                                               1\n",
       "Trans woman                                         1\n",
       "queer                                               1\n",
       "queer/she/they                                      1\n",
       "Androgyne                                           1\n",
       "Guy (-ish) ^_^                                      1\n",
       "Cis Man                                             1\n",
       "Agender                                             1\n",
       "ostensibly male, unsure what that really means      1\n",
       "non-binary                                          1\n",
       "femail                                              1\n",
       "Femake                                              1\n",
       "Trans-female                                        1\n",
       "Cis Female                                          1\n",
       "Genderqueer                                         1\n",
       "cis male                                            1\n",
       "woman                                               1\n",
       "Neuter                                              1\n",
       "fluid                                               1\n",
       "Malr                                                1\n",
       "Male-ish                                            1\n",
       "Enby                                                1\n",
       "cis-female/femme                                    1\n",
       "Mail                                                1\n",
       "Nah                                                 1\n",
       "something kinda male?                               1\n",
       "Mal                                                 1\n",
       "msle                                                1\n",
       "male leaning androgynous                            1\n",
       "Name: Gender, dtype: int64"
      ]
     },
     "execution_count": 20,
     "metadata": {},
     "output_type": "execute_result"
    }
   ],
   "source": [
    "data['Gender'].value_counts()"
   ]
  },
  {
   "cell_type": "code",
   "execution_count": 21,
   "metadata": {
    "id": "3jaTBbawIpTC"
   },
   "outputs": [],
   "source": [
    "#Grouping all responses for gender into 3 major categories - Male, Female, Non-Binary\n",
    "data['Gender'].replace(['Male ', 'male', 'M', 'm', 'Male', 'Cis Male',\n",
    "                     'Man', 'cis male', 'Mail', 'Male-ish', 'Male (CIS)',\n",
    "                      'Cis Man', 'msle', 'Malr', 'Mal', 'maile', 'Make',], 'Male', inplace = True)\n",
    "\n",
    "data['Gender'].replace(['Female ', 'female', 'F', 'f', 'Woman', 'Female',\n",
    "                     'femail', 'Cis Female', 'cis-female/femme', 'Femake', 'Female (cis)',\n",
    "                     'woman',], 'Female', inplace = True)\n",
    "\n",
    "data[\"Gender\"].replace(['Female (trans)', 'queer/she/they', 'non-binary',\n",
    "                     'fluid', 'queer', 'Androgyne', 'Trans-female', 'male leaning androgynous',\n",
    "                      'Agender', 'A little about you', 'Nah', 'All',\n",
    "                      'ostensibly male, unsure what that really means',\n",
    "                      'Genderqueer', 'Enby', 'p', 'Neuter', 'something kinda male?',\n",
    "                      'Guy (-ish) ^_^', 'Trans woman',], 'Non-Binary', inplace = True)\n"
   ]
  },
  {
   "cell_type": "code",
   "execution_count": 22,
   "metadata": {
    "colab": {
     "base_uri": "https://localhost:8080/"
    },
    "id": "QCeYWYzNJXR1",
    "outputId": "f4f81355-da83-434d-ae09-b568149719cf"
   },
   "outputs": [
    {
     "data": {
      "text/plain": [
       "Male          983\n",
       "Female        246\n",
       "Non-Binary     18\n",
       "Name: Gender, dtype: int64"
      ]
     },
     "execution_count": 22,
     "metadata": {},
     "output_type": "execute_result"
    }
   ],
   "source": [
    "data['Gender'].value_counts()"
   ]
  },
  {
   "cell_type": "markdown",
   "metadata": {
    "id": "Hw2tJBDWKixK"
   },
   "source": [
    "#EDA"
   ]
  },
  {
   "cell_type": "code",
   "execution_count": 23,
   "metadata": {
    "colab": {
     "base_uri": "https://localhost:8080/"
    },
    "id": "d2hQqfcCWhtn",
    "outputId": "5060c3cd-ea4e-4cae-ab4e-36e6c3c20b81"
   },
   "outputs": [
    {
     "data": {
      "text/plain": [
       "Index(['Age', 'Gender', 'self_employed', 'family_history', 'treatment',\n",
       "       'work_interfere', 'no_employees', 'remote_work', 'tech_company',\n",
       "       'benefits', 'care_options', 'wellness_program', 'seek_help',\n",
       "       'anonymity', 'leave', 'mental_health_consequence',\n",
       "       'phys_health_consequence', 'coworkers', 'supervisor',\n",
       "       'mental_health_interview', 'phys_health_interview',\n",
       "       'mental_vs_physical', 'obs_consequence'],\n",
       "      dtype='object')"
      ]
     },
     "execution_count": 23,
     "metadata": {},
     "output_type": "execute_result"
    }
   ],
   "source": [
    "data.columns"
   ]
  },
  {
   "cell_type": "code",
   "execution_count": 24,
   "metadata": {},
   "outputs": [
    {
     "data": {
      "text/plain": [
       "26-100            288\n",
       "6-25              288\n",
       "More than 1000    280\n",
       "100-500           175\n",
       "1-5               157\n",
       "500-1000           59\n",
       "Name: no_employees, dtype: int64"
      ]
     },
     "execution_count": 24,
     "metadata": {},
     "output_type": "execute_result"
    }
   ],
   "source": [
    "data['no_employees'].value_counts()"
   ]
  },
  {
   "cell_type": "code",
   "execution_count": 25,
   "metadata": {
    "colab": {
     "base_uri": "https://localhost:8080/",
     "height": 367
    },
    "id": "W3sH-oc6Jdt7",
    "outputId": "29b76469-380b-4995-9017-e33fa077aac1"
   },
   "outputs": [
    {
     "name": "stderr",
     "output_type": "stream",
     "text": [
      "C:\\Users\\acer\\anaconda3\\lib\\site-packages\\seaborn\\distributions.py:2557: FutureWarning: `distplot` is a deprecated function and will be removed in a future version. Please adapt your code to use either `displot` (a figure-level function with similar flexibility) or `histplot` (an axes-level function for histograms).\n",
      "  warnings.warn(msg, FutureWarning)\n"
     ]
    },
    {
     "data": {
      "text/plain": [
       "Text(0.5, 0, 'Age')"
      ]
     },
     "execution_count": 25,
     "metadata": {},
     "output_type": "execute_result"
    },
    {
     "data": {
      "image/png": "[encoded data removed]",
      "text/plain": [
       "<Figure size 432x288 with 1 Axes>"
      ]
     },
     "metadata": {
      "needs_background": "light"
     },
     "output_type": "display_data"
    }
   ],
   "source": [
    "#Checking distribution of age\n",
    "sb.distplot(data[\"Age\"])\n",
    "plt.title(\"Distribuition - Age\")\n",
    "plt.xlabel(\"Age\")"
   ]
  },
  {
   "cell_type": "code",
   "execution_count": 26,
   "metadata": {
    "colab": {
     "base_uri": "https://localhost:8080/",
     "height": 1000
    },
    "id": "Ddvt-ztVLln7",
    "outputId": "fd08dcef-b2b4-43f8-c442-73b6b0a298db"
   },
   "outputs": [
    {
     "name": "stderr",
     "output_type": "stream",
     "text": [
      "C:\\Users\\acer\\anaconda3\\lib\\site-packages\\seaborn\\_decorators.py:36: FutureWarning: Pass the following variable as a keyword arg: x. From version 0.12, the only valid positional argument will be `data`, and passing other arguments without an explicit keyword will result in an error or misinterpretation.\n",
      "  warnings.warn(\n"
     ]
    },
    {
     "data": {
      "text/plain": [
       "Text(0.5, 1.0, 'Employment Type')"
      ]
     },
     "execution_count": 26,
     "metadata": {},
     "output_type": "execute_result"
    },
    {
     "data": {
      "image/png": "[encoded data removed]",
      "text/plain": [
       "<Figure size 720x2880 with 1 Axes>"
      ]
     },
     "metadata": {
      "needs_background": "light"
     },
     "output_type": "display_data"
    }
   ],
   "source": [
    "plt.figure(figsize=(10,40))\n",
    "plt.subplot(9,2,1)\n",
    "sb.countplot(data['self_employed'], hue = data['treatment'])\n",
    "plt.title('Employment Type')"
   ]
  },
  {
   "cell_type": "code",
   "execution_count": 27,
   "metadata": {},
   "outputs": [
    {
     "name": "stderr",
     "output_type": "stream",
     "text": [
      "C:\\Users\\acer\\anaconda3\\lib\\site-packages\\seaborn\\_decorators.py:36: FutureWarning: Pass the following variable as a keyword arg: x. From version 0.12, the only valid positional argument will be `data`, and passing other arguments without an explicit keyword will result in an error or misinterpretation.\n",
      "  warnings.warn(\n"
     ]
    },
    {
     "data": {
      "text/plain": [
       "Text(0.5, 1.0, 'Family History')"
      ]
     },
     "execution_count": 27,
     "metadata": {},
     "output_type": "execute_result"
    },
    {
     "data": {
      "image/png": "[encoded data removed]",
      "text/plain": [
       "<Figure size 720x2880 with 1 Axes>"
      ]
     },
     "metadata": {
      "needs_background": "light"
     },
     "output_type": "display_data"
    }
   ],
   "source": [
    "plt.figure(figsize=(10,40))\n",
    "plt.subplot(9,2,2)\n",
    "sb.countplot(data['family_history'], hue = data['treatment'])\n",
    "plt.title('Family History')\n"
   ]
  },
  {
   "cell_type": "code",
   "execution_count": 28,
   "metadata": {},
   "outputs": [
    {
     "name": "stderr",
     "output_type": "stream",
     "text": [
      "C:\\Users\\acer\\anaconda3\\lib\\site-packages\\seaborn\\_decorators.py:36: FutureWarning: Pass the following variable as a keyword arg: x. From version 0.12, the only valid positional argument will be `data`, and passing other arguments without an explicit keyword will result in an error or misinterpretation.\n",
      "  warnings.warn(\n"
     ]
    },
    {
     "data": {
      "text/plain": [
       "Text(0.5, 1.0, 'Work Interference')"
      ]
     },
     "execution_count": 28,
     "metadata": {},
     "output_type": "execute_result"
    },
    {
     "data": {
      "image/png": "[encoded data removed]",
      "text/plain": [
       "<Figure size 720x2880 with 1 Axes>"
      ]
     },
     "metadata": {
      "needs_background": "light"
     },
     "output_type": "display_data"
    }
   ],
   "source": [
    "plt.figure(figsize=(10,40))\n",
    "plt.subplot(9,2,3)\n",
    "sb.countplot(data['work_interfere'], hue = data['treatment'])\n",
    "plt.title('Work Interference')"
   ]
  },
  {
   "cell_type": "code",
   "execution_count": 29,
   "metadata": {},
   "outputs": [
    {
     "name": "stderr",
     "output_type": "stream",
     "text": [
      "C:\\Users\\acer\\anaconda3\\lib\\site-packages\\seaborn\\_decorators.py:36: FutureWarning: Pass the following variable as a keyword arg: x. From version 0.12, the only valid positional argument will be `data`, and passing other arguments without an explicit keyword will result in an error or misinterpretation.\n",
      "  warnings.warn(\n"
     ]
    },
    {
     "data": {
      "text/plain": [
       "Text(0.5, 1.0, 'Work Type')"
      ]
     },
     "execution_count": 29,
     "metadata": {},
     "output_type": "execute_result"
    },
    {
     "data": {
      "image/png": "[encoded data removed]",
      "text/plain": [
       "<Figure size 720x2880 with 1 Axes>"
      ]
     },
     "metadata": {
      "needs_background": "light"
     },
     "output_type": "display_data"
    }
   ],
   "source": [
    "plt.figure(figsize=(10,40))\n",
    "plt.subplot(9,2,4)\n",
    "sb.countplot(data['remote_work'], hue = data['treatment'])\n",
    "plt.title('Work Type')"
   ]
  },
  {
   "cell_type": "code",
   "execution_count": 30,
   "metadata": {},
   "outputs": [
    {
     "name": "stderr",
     "output_type": "stream",
     "text": [
      "C:\\Users\\acer\\anaconda3\\lib\\site-packages\\seaborn\\_decorators.py:36: FutureWarning: Pass the following variable as a keyword arg: x. From version 0.12, the only valid positional argument will be `data`, and passing other arguments without an explicit keyword will result in an error or misinterpretation.\n",
      "  warnings.warn(\n"
     ]
    },
    {
     "data": {
      "text/plain": [
       "Text(0.5, 1.0, 'Company')"
      ]
     },
     "execution_count": 30,
     "metadata": {},
     "output_type": "execute_result"
    },
    {
     "data": {
      "image/png": "[encoded data removed]",
      "text/plain": [
       "<Figure size 720x2880 with 1 Axes>"
      ]
     },
     "metadata": {
      "needs_background": "light"
     },
     "output_type": "display_data"
    }
   ],
   "source": [
    "plt.figure(figsize=(10,40))\n",
    "plt.subplot(9,2,5)\n",
    "sb.countplot(data['tech_company'], hue = data['treatment'])\n",
    "plt.title('Company')"
   ]
  },
  {
   "cell_type": "code",
   "execution_count": 31,
   "metadata": {},
   "outputs": [
    {
     "name": "stderr",
     "output_type": "stream",
     "text": [
      "C:\\Users\\acer\\anaconda3\\lib\\site-packages\\seaborn\\_decorators.py:36: FutureWarning: Pass the following variable as a keyword arg: x. From version 0.12, the only valid positional argument will be `data`, and passing other arguments without an explicit keyword will result in an error or misinterpretation.\n",
      "  warnings.warn(\n"
     ]
    },
    {
     "data": {
      "text/plain": [
       "Text(0.5, 1.0, 'Benefits')"
      ]
     },
     "execution_count": 31,
     "metadata": {},
     "output_type": "execute_result"
    },
    {
     "data": {
      "image/png": "[encoded data removed]",
      "text/plain": [
       "<Figure size 720x2880 with 1 Axes>"
      ]
     },
     "metadata": {
      "needs_background": "light"
     },
     "output_type": "display_data"
    }
   ],
   "source": [
    "plt.figure(figsize=(10,40))\n",
    "plt.subplot(9,2,6)\n",
    "sb.countplot(data['benefits'], hue = data['treatment'])\n",
    "plt.title('Benefits')"
   ]
  },
  {
   "cell_type": "code",
   "execution_count": 32,
   "metadata": {},
   "outputs": [
    {
     "name": "stderr",
     "output_type": "stream",
     "text": [
      "C:\\Users\\acer\\anaconda3\\lib\\site-packages\\seaborn\\_decorators.py:36: FutureWarning: Pass the following variable as a keyword arg: x. From version 0.12, the only valid positional argument will be `data`, and passing other arguments without an explicit keyword will result in an error or misinterpretation.\n",
      "  warnings.warn(\n"
     ]
    },
    {
     "data": {
      "text/plain": [
       "Text(0.5, 1.0, 'Care Options')"
      ]
     },
     "execution_count": 32,
     "metadata": {},
     "output_type": "execute_result"
    },
    {
     "data": {
      "image/png": "[encoded data removed]",
      "text/plain": [
       "<Figure size 720x2880 with 1 Axes>"
      ]
     },
     "metadata": {
      "needs_background": "light"
     },
     "output_type": "display_data"
    }
   ],
   "source": [
    "plt.figure(figsize=(10,40))\n",
    "plt.subplot(9,2,7)\n",
    "sb.countplot(data['care_options'], hue = data['treatment'])\n",
    "plt.title('Care Options')"
   ]
  },
  {
   "cell_type": "code",
   "execution_count": 33,
   "metadata": {},
   "outputs": [
    {
     "name": "stderr",
     "output_type": "stream",
     "text": [
      "C:\\Users\\acer\\anaconda3\\lib\\site-packages\\seaborn\\_decorators.py:36: FutureWarning: Pass the following variable as a keyword arg: x. From version 0.12, the only valid positional argument will be `data`, and passing other arguments without an explicit keyword will result in an error or misinterpretation.\n",
      "  warnings.warn(\n"
     ]
    },
    {
     "data": {
      "text/plain": [
       "Text(0.5, 1.0, 'Equal importance to Mental and Physical health')"
      ]
     },
     "execution_count": 33,
     "metadata": {},
     "output_type": "execute_result"
    },
    {
     "data": {
      "image/png": "[encoded data removed]",
      "text/plain": [
       "<Figure size 720x2880 with 1 Axes>"
      ]
     },
     "metadata": {
      "needs_background": "light"
     },
     "output_type": "display_data"
    }
   ],
   "source": [
    "plt.figure(figsize=(10,40))\n",
    "plt.subplot(9,2,8)\n",
    "sb.countplot(data['mental_vs_physical'], hue = data['treatment'])\n",
    "plt.title('Equal importance to Mental and Physical health')"
   ]
  },
  {
   "cell_type": "code",
   "execution_count": 34,
   "metadata": {},
   "outputs": [
    {
     "name": "stderr",
     "output_type": "stream",
     "text": [
      "C:\\Users\\acer\\anaconda3\\lib\\site-packages\\seaborn\\_decorators.py:36: FutureWarning: Pass the following variable as a keyword arg: x. From version 0.12, the only valid positional argument will be `data`, and passing other arguments without an explicit keyword will result in an error or misinterpretation.\n",
      "  warnings.warn(\n"
     ]
    },
    {
     "data": {
      "text/plain": [
       "Text(0.5, 1.0, 'Wellness Program')"
      ]
     },
     "execution_count": 34,
     "metadata": {},
     "output_type": "execute_result"
    },
    {
     "data": {
      "image/png": "[encoded data removed]",
      "text/plain": [
       "<Figure size 720x2880 with 1 Axes>"
      ]
     },
     "metadata": {
      "needs_background": "light"
     },
     "output_type": "display_data"
    }
   ],
   "source": [
    "plt.figure(figsize=(10,40))\n",
    "plt.subplot(9,2,9)\n",
    "sb.countplot(data['wellness_program'], hue = data['treatment'])\n",
    "plt.title('Wellness Program')"
   ]
  },
  {
   "cell_type": "code",
   "execution_count": 35,
   "metadata": {},
   "outputs": [
    {
     "name": "stderr",
     "output_type": "stream",
     "text": [
      "C:\\Users\\acer\\anaconda3\\lib\\site-packages\\seaborn\\_decorators.py:36: FutureWarning: Pass the following variable as a keyword arg: x. From version 0.12, the only valid positional argument will be `data`, and passing other arguments without an explicit keyword will result in an error or misinterpretation.\n",
      "  warnings.warn(\n"
     ]
    },
    {
     "data": {
      "text/plain": [
       "Text(0.5, 1.0, 'Anonymity')"
      ]
     },
     "execution_count": 35,
     "metadata": {},
     "output_type": "execute_result"
    },
    {
     "data": {
      "image/png": "[encoded data removed]",
      "text/plain": [
       "<Figure size 720x2880 with 1 Axes>"
      ]
     },
     "metadata": {
      "needs_background": "light"
     },
     "output_type": "display_data"
    }
   ],
   "source": [
    "plt.figure(figsize=(10,40))\n",
    "plt.subplot(9,2,10)\n",
    "sb.countplot(data['anonymity'], hue = data['treatment'])\n",
    "plt.title('Anonymity')"
   ]
  },
  {
   "cell_type": "code",
   "execution_count": 36,
   "metadata": {},
   "outputs": [
    {
     "name": "stderr",
     "output_type": "stream",
     "text": [
      "C:\\Users\\acer\\anaconda3\\lib\\site-packages\\seaborn\\_decorators.py:36: FutureWarning: Pass the following variable as a keyword arg: x. From version 0.12, the only valid positional argument will be `data`, and passing other arguments without an explicit keyword will result in an error or misinterpretation.\n",
      "  warnings.warn(\n"
     ]
    },
    {
     "data": {
      "text/plain": [
       "Text(0.5, 1.0, 'Leave')"
      ]
     },
     "execution_count": 36,
     "metadata": {},
     "output_type": "execute_result"
    },
    {
     "data": {
      "image/png": "[encoded data removed]",
      "text/plain": [
       "<Figure size 1440x2880 with 1 Axes>"
      ]
     },
     "metadata": {
      "needs_background": "light"
     },
     "output_type": "display_data"
    }
   ],
   "source": [
    "plt.figure(figsize=(20,40))\n",
    "plt.subplot(9,2,11)\n",
    "sb.countplot(data['leave'], hue = data['treatment'])\n",
    "plt.title('Leave')"
   ]
  },
  {
   "cell_type": "code",
   "execution_count": 37,
   "metadata": {},
   "outputs": [
    {
     "name": "stderr",
     "output_type": "stream",
     "text": [
      "C:\\Users\\acer\\anaconda3\\lib\\site-packages\\seaborn\\_decorators.py:36: FutureWarning: Pass the following variable as a keyword arg: x. From version 0.12, the only valid positional argument will be `data`, and passing other arguments without an explicit keyword will result in an error or misinterpretation.\n",
      "  warnings.warn(\n"
     ]
    },
    {
     "data": {
      "text/plain": [
       "Text(0.5, 1.0, 'Mental Health Consequence')"
      ]
     },
     "execution_count": 37,
     "metadata": {},
     "output_type": "execute_result"
    },
    {
     "data": {
      "image/png": "[encoded data removed]",
      "text/plain": [
       "<Figure size 720x2880 with 1 Axes>"
      ]
     },
     "metadata": {
      "needs_background": "light"
     },
     "output_type": "display_data"
    }
   ],
   "source": [
    "plt.figure(figsize=(10,40))\n",
    "plt.subplot(9,2,12)\n",
    "sb.countplot(data['mental_health_consequence'], hue = data['treatment'])\n",
    "plt.title('Mental Health Consequence')"
   ]
  },
  {
   "cell_type": "code",
   "execution_count": 38,
   "metadata": {},
   "outputs": [
    {
     "name": "stderr",
     "output_type": "stream",
     "text": [
      "C:\\Users\\acer\\anaconda3\\lib\\site-packages\\seaborn\\_decorators.py:36: FutureWarning: Pass the following variable as a keyword arg: x. From version 0.12, the only valid positional argument will be `data`, and passing other arguments without an explicit keyword will result in an error or misinterpretation.\n",
      "  warnings.warn(\n"
     ]
    },
    {
     "data": {
      "text/plain": [
       "Text(0.5, 1.0, 'Physical Health Consequnce')"
      ]
     },
     "execution_count": 38,
     "metadata": {},
     "output_type": "execute_result"
    },
    {
     "data": {
      "image/png": "[encoded data removed]",
      "text/plain": [
       "<Figure size 720x2880 with 1 Axes>"
      ]
     },
     "metadata": {
      "needs_background": "light"
     },
     "output_type": "display_data"
    }
   ],
   "source": [
    "plt.figure(figsize=(10,40))\n",
    "plt.subplot(9,2,13)\n",
    "sb.countplot(data['phys_health_consequence'], hue = data['treatment'])\n",
    "plt.title('Physical Health Consequnce')"
   ]
  },
  {
   "cell_type": "code",
   "execution_count": 39,
   "metadata": {},
   "outputs": [
    {
     "name": "stderr",
     "output_type": "stream",
     "text": [
      "C:\\Users\\acer\\anaconda3\\lib\\site-packages\\seaborn\\_decorators.py:36: FutureWarning: Pass the following variable as a keyword arg: x. From version 0.12, the only valid positional argument will be `data`, and passing other arguments without an explicit keyword will result in an error or misinterpretation.\n",
      "  warnings.warn(\n"
     ]
    },
    {
     "data": {
      "text/plain": [
       "Text(0.5, 1.0, 'Discussion with Coworkers')"
      ]
     },
     "execution_count": 39,
     "metadata": {},
     "output_type": "execute_result"
    },
    {
     "data": {
      "image/png": "[encoded data removed]",
      "text/plain": [
       "<Figure size 720x2880 with 1 Axes>"
      ]
     },
     "metadata": {
      "needs_background": "light"
     },
     "output_type": "display_data"
    }
   ],
   "source": [
    "plt.figure(figsize=(10,40))\n",
    "plt.subplot(9,2,14)\n",
    "sb.countplot(data['coworkers'], hue = data['treatment'])\n",
    "plt.title('Discussion with Coworkers')"
   ]
  },
  {
   "cell_type": "code",
   "execution_count": 40,
   "metadata": {},
   "outputs": [
    {
     "name": "stderr",
     "output_type": "stream",
     "text": [
      "C:\\Users\\acer\\anaconda3\\lib\\site-packages\\seaborn\\_decorators.py:36: FutureWarning: Pass the following variable as a keyword arg: x. From version 0.12, the only valid positional argument will be `data`, and passing other arguments without an explicit keyword will result in an error or misinterpretation.\n",
      "  warnings.warn(\n"
     ]
    },
    {
     "data": {
      "text/plain": [
       "Text(0.5, 1.0, 'Discussion with Supervisor')"
      ]
     },
     "execution_count": 40,
     "metadata": {},
     "output_type": "execute_result"
    },
    {
     "data": {
      "image/png": "[encoded data removed]",
      "text/plain": [
       "<Figure size 720x2880 with 1 Axes>"
      ]
     },
     "metadata": {
      "needs_background": "light"
     },
     "output_type": "display_data"
    }
   ],
   "source": [
    "plt.figure(figsize=(10,40))\n",
    "plt.subplot(9,2,15)\n",
    "sb.countplot(data['supervisor'], hue = data['treatment'])\n",
    "plt.title('Discussion with Supervisor')"
   ]
  },
  {
   "cell_type": "code",
   "execution_count": 41,
   "metadata": {},
   "outputs": [
    {
     "name": "stderr",
     "output_type": "stream",
     "text": [
      "C:\\Users\\acer\\anaconda3\\lib\\site-packages\\seaborn\\_decorators.py:36: FutureWarning: Pass the following variable as a keyword arg: x. From version 0.12, the only valid positional argument will be `data`, and passing other arguments without an explicit keyword will result in an error or misinterpretation.\n",
      "  warnings.warn(\n"
     ]
    },
    {
     "data": {
      "text/plain": [
       "Text(0.5, 1.0, 'Discussion with Interviewer(Mental)')"
      ]
     },
     "execution_count": 41,
     "metadata": {},
     "output_type": "execute_result"
    },
    {
     "data": {
      "image/png": "[encoded data removed]",
      "text/plain": [
       "<Figure size 720x2880 with 1 Axes>"
      ]
     },
     "metadata": {
      "needs_background": "light"
     },
     "output_type": "display_data"
    }
   ],
   "source": [
    "plt.figure(figsize=(10,40))\n",
    "plt.subplot(9,2,16)\n",
    "sb.countplot(data['mental_health_interview'], hue = data['treatment'])\n",
    "plt.title('Discussion with Interviewer(Mental)')"
   ]
  },
  {
   "cell_type": "code",
   "execution_count": 42,
   "metadata": {},
   "outputs": [
    {
     "name": "stderr",
     "output_type": "stream",
     "text": [
      "C:\\Users\\acer\\anaconda3\\lib\\site-packages\\seaborn\\_decorators.py:36: FutureWarning: Pass the following variable as a keyword arg: x. From version 0.12, the only valid positional argument will be `data`, and passing other arguments without an explicit keyword will result in an error or misinterpretation.\n",
      "  warnings.warn(\n"
     ]
    },
    {
     "data": {
      "text/plain": [
       "Text(0.5, 1.0, 'Discussion with Interviewer(Physical)')"
      ]
     },
     "execution_count": 42,
     "metadata": {},
     "output_type": "execute_result"
    },
    {
     "data": {
      "image/png": "[encoded data removed]",
      "text/plain": [
       "<Figure size 720x2880 with 1 Axes>"
      ]
     },
     "metadata": {
      "needs_background": "light"
     },
     "output_type": "display_data"
    }
   ],
   "source": [
    "plt.figure(figsize=(10,40))\n",
    "plt.subplot(9,2,17)\n",
    "sb.countplot(data['phys_health_interview'], hue = data['treatment'])\n",
    "plt.title('Discussion with Interviewer(Physical)')"
   ]
  },
  {
   "cell_type": "code",
   "execution_count": 43,
   "metadata": {},
   "outputs": [
    {
     "name": "stderr",
     "output_type": "stream",
     "text": [
      "C:\\Users\\acer\\anaconda3\\lib\\site-packages\\seaborn\\_decorators.py:36: FutureWarning: Pass the following variable as a keyword arg: x. From version 0.12, the only valid positional argument will be `data`, and passing other arguments without an explicit keyword will result in an error or misinterpretation.\n",
      "  warnings.warn(\n"
     ]
    },
    {
     "data": {
      "text/plain": [
       "Text(0.5, 1.0, 'Consequence after Disclosure')"
      ]
     },
     "execution_count": 43,
     "metadata": {},
     "output_type": "execute_result"
    },
    {
     "data": {
      "image/png": "[encoded data removed]",
      "text/plain": [
       "<Figure size 720x2880 with 1 Axes>"
      ]
     },
     "metadata": {
      "needs_background": "light"
     },
     "output_type": "display_data"
    }
   ],
   "source": [
    "plt.figure(figsize=(10,40))\n",
    "plt.subplot(9,2,18)\n",
    "sb.countplot(data['obs_consequence'], hue = data['treatment'])\n",
    "plt.title('Consequence after Disclosure')"
   ]
  },
  {
   "cell_type": "code",
   "execution_count": 44,
   "metadata": {
    "id": "wCNMOFUUB_M6"
   },
   "outputs": [
    {
     "data": {
      "text/html": [
       "<div>\n",
       "<style scoped>\n",
       "    .dataframe tbody tr th:only-of-type {\n",
       "        vertical-align: middle;\n",
       "    }\n",
       "\n",
       "    .dataframe tbody tr th {\n",
       "        vertical-align: top;\n",
       "    }\n",
       "\n",
       "    .dataframe thead th {\n",
       "        text-align: right;\n",
       "    }\n",
       "</style>\n",
       "<table border=\"1\" class=\"dataframe\">\n",
       "  <thead>\n",
       "    <tr style=\"text-align: right;\">\n",
       "      <th></th>\n",
       "      <th>Age</th>\n",
       "      <th>Gender</th>\n",
       "      <th>self_employed</th>\n",
       "      <th>family_history</th>\n",
       "      <th>treatment</th>\n",
       "      <th>work_interfere</th>\n",
       "      <th>no_employees</th>\n",
       "      <th>remote_work</th>\n",
       "      <th>tech_company</th>\n",
       "      <th>benefits</th>\n",
       "      <th>...</th>\n",
       "      <th>anonymity</th>\n",
       "      <th>leave</th>\n",
       "      <th>mental_health_consequence</th>\n",
       "      <th>phys_health_consequence</th>\n",
       "      <th>coworkers</th>\n",
       "      <th>supervisor</th>\n",
       "      <th>mental_health_interview</th>\n",
       "      <th>phys_health_interview</th>\n",
       "      <th>mental_vs_physical</th>\n",
       "      <th>obs_consequence</th>\n",
       "    </tr>\n",
       "  </thead>\n",
       "  <tbody>\n",
       "    <tr>\n",
       "      <th>count</th>\n",
       "      <td>1247.000000</td>\n",
       "      <td>1247</td>\n",
       "      <td>1247</td>\n",
       "      <td>1247</td>\n",
       "      <td>1247</td>\n",
       "      <td>1247</td>\n",
       "      <td>1247</td>\n",
       "      <td>1247</td>\n",
       "      <td>1247</td>\n",
       "      <td>1247</td>\n",
       "      <td>...</td>\n",
       "      <td>1247</td>\n",
       "      <td>1247</td>\n",
       "      <td>1247</td>\n",
       "      <td>1247</td>\n",
       "      <td>1247</td>\n",
       "      <td>1247</td>\n",
       "      <td>1247</td>\n",
       "      <td>1247</td>\n",
       "      <td>1247</td>\n",
       "      <td>1247</td>\n",
       "    </tr>\n",
       "    <tr>\n",
       "      <th>unique</th>\n",
       "      <td>NaN</td>\n",
       "      <td>3</td>\n",
       "      <td>2</td>\n",
       "      <td>2</td>\n",
       "      <td>2</td>\n",
       "      <td>5</td>\n",
       "      <td>6</td>\n",
       "      <td>2</td>\n",
       "      <td>2</td>\n",
       "      <td>3</td>\n",
       "      <td>...</td>\n",
       "      <td>3</td>\n",
       "      <td>5</td>\n",
       "      <td>3</td>\n",
       "      <td>3</td>\n",
       "      <td>3</td>\n",
       "      <td>3</td>\n",
       "      <td>3</td>\n",
       "      <td>3</td>\n",
       "      <td>3</td>\n",
       "      <td>2</td>\n",
       "    </tr>\n",
       "    <tr>\n",
       "      <th>top</th>\n",
       "      <td>NaN</td>\n",
       "      <td>Male</td>\n",
       "      <td>No</td>\n",
       "      <td>No</td>\n",
       "      <td>Yes</td>\n",
       "      <td>Sometimes</td>\n",
       "      <td>26-100</td>\n",
       "      <td>No</td>\n",
       "      <td>Yes</td>\n",
       "      <td>Yes</td>\n",
       "      <td>...</td>\n",
       "      <td>Don't know</td>\n",
       "      <td>Don't know</td>\n",
       "      <td>No</td>\n",
       "      <td>No</td>\n",
       "      <td>Some of them</td>\n",
       "      <td>Yes</td>\n",
       "      <td>No</td>\n",
       "      <td>Maybe</td>\n",
       "      <td>Don't know</td>\n",
       "      <td>No</td>\n",
       "    </tr>\n",
       "    <tr>\n",
       "      <th>freq</th>\n",
       "      <td>NaN</td>\n",
       "      <td>983</td>\n",
       "      <td>1107</td>\n",
       "      <td>759</td>\n",
       "      <td>630</td>\n",
       "      <td>463</td>\n",
       "      <td>288</td>\n",
       "      <td>879</td>\n",
       "      <td>1023</td>\n",
       "      <td>471</td>\n",
       "      <td>...</td>\n",
       "      <td>811</td>\n",
       "      <td>560</td>\n",
       "      <td>487</td>\n",
       "      <td>918</td>\n",
       "      <td>767</td>\n",
       "      <td>509</td>\n",
       "      <td>1000</td>\n",
       "      <td>553</td>\n",
       "      <td>573</td>\n",
       "      <td>1068</td>\n",
       "    </tr>\n",
       "    <tr>\n",
       "      <th>mean</th>\n",
       "      <td>31.971131</td>\n",
       "      <td>NaN</td>\n",
       "      <td>NaN</td>\n",
       "      <td>NaN</td>\n",
       "      <td>NaN</td>\n",
       "      <td>NaN</td>\n",
       "      <td>NaN</td>\n",
       "      <td>NaN</td>\n",
       "      <td>NaN</td>\n",
       "      <td>NaN</td>\n",
       "      <td>...</td>\n",
       "      <td>NaN</td>\n",
       "      <td>NaN</td>\n",
       "      <td>NaN</td>\n",
       "      <td>NaN</td>\n",
       "      <td>NaN</td>\n",
       "      <td>NaN</td>\n",
       "      <td>NaN</td>\n",
       "      <td>NaN</td>\n",
       "      <td>NaN</td>\n",
       "      <td>NaN</td>\n",
       "    </tr>\n",
       "    <tr>\n",
       "      <th>std</th>\n",
       "      <td>7.052598</td>\n",
       "      <td>NaN</td>\n",
       "      <td>NaN</td>\n",
       "      <td>NaN</td>\n",
       "      <td>NaN</td>\n",
       "      <td>NaN</td>\n",
       "      <td>NaN</td>\n",
       "      <td>NaN</td>\n",
       "      <td>NaN</td>\n",
       "      <td>NaN</td>\n",
       "      <td>...</td>\n",
       "      <td>NaN</td>\n",
       "      <td>NaN</td>\n",
       "      <td>NaN</td>\n",
       "      <td>NaN</td>\n",
       "      <td>NaN</td>\n",
       "      <td>NaN</td>\n",
       "      <td>NaN</td>\n",
       "      <td>NaN</td>\n",
       "      <td>NaN</td>\n",
       "      <td>NaN</td>\n",
       "    </tr>\n",
       "    <tr>\n",
       "      <th>min</th>\n",
       "      <td>18.000000</td>\n",
       "      <td>NaN</td>\n",
       "      <td>NaN</td>\n",
       "      <td>NaN</td>\n",
       "      <td>NaN</td>\n",
       "      <td>NaN</td>\n",
       "      <td>NaN</td>\n",
       "      <td>NaN</td>\n",
       "      <td>NaN</td>\n",
       "      <td>NaN</td>\n",
       "      <td>...</td>\n",
       "      <td>NaN</td>\n",
       "      <td>NaN</td>\n",
       "      <td>NaN</td>\n",
       "      <td>NaN</td>\n",
       "      <td>NaN</td>\n",
       "      <td>NaN</td>\n",
       "      <td>NaN</td>\n",
       "      <td>NaN</td>\n",
       "      <td>NaN</td>\n",
       "      <td>NaN</td>\n",
       "    </tr>\n",
       "    <tr>\n",
       "      <th>25%</th>\n",
       "      <td>27.000000</td>\n",
       "      <td>NaN</td>\n",
       "      <td>NaN</td>\n",
       "      <td>NaN</td>\n",
       "      <td>NaN</td>\n",
       "      <td>NaN</td>\n",
       "      <td>NaN</td>\n",
       "      <td>NaN</td>\n",
       "      <td>NaN</td>\n",
       "      <td>NaN</td>\n",
       "      <td>...</td>\n",
       "      <td>NaN</td>\n",
       "      <td>NaN</td>\n",
       "      <td>NaN</td>\n",
       "      <td>NaN</td>\n",
       "      <td>NaN</td>\n",
       "      <td>NaN</td>\n",
       "      <td>NaN</td>\n",
       "      <td>NaN</td>\n",
       "      <td>NaN</td>\n",
       "      <td>NaN</td>\n",
       "    </tr>\n",
       "    <tr>\n",
       "      <th>50%</th>\n",
       "      <td>31.000000</td>\n",
       "      <td>NaN</td>\n",
       "      <td>NaN</td>\n",
       "      <td>NaN</td>\n",
       "      <td>NaN</td>\n",
       "      <td>NaN</td>\n",
       "      <td>NaN</td>\n",
       "      <td>NaN</td>\n",
       "      <td>NaN</td>\n",
       "      <td>NaN</td>\n",
       "      <td>...</td>\n",
       "      <td>NaN</td>\n",
       "      <td>NaN</td>\n",
       "      <td>NaN</td>\n",
       "      <td>NaN</td>\n",
       "      <td>NaN</td>\n",
       "      <td>NaN</td>\n",
       "      <td>NaN</td>\n",
       "      <td>NaN</td>\n",
       "      <td>NaN</td>\n",
       "      <td>NaN</td>\n",
       "    </tr>\n",
       "    <tr>\n",
       "      <th>75%</th>\n",
       "      <td>36.000000</td>\n",
       "      <td>NaN</td>\n",
       "      <td>NaN</td>\n",
       "      <td>NaN</td>\n",
       "      <td>NaN</td>\n",
       "      <td>NaN</td>\n",
       "      <td>NaN</td>\n",
       "      <td>NaN</td>\n",
       "      <td>NaN</td>\n",
       "      <td>NaN</td>\n",
       "      <td>...</td>\n",
       "      <td>NaN</td>\n",
       "      <td>NaN</td>\n",
       "      <td>NaN</td>\n",
       "      <td>NaN</td>\n",
       "      <td>NaN</td>\n",
       "      <td>NaN</td>\n",
       "      <td>NaN</td>\n",
       "      <td>NaN</td>\n",
       "      <td>NaN</td>\n",
       "      <td>NaN</td>\n",
       "    </tr>\n",
       "    <tr>\n",
       "      <th>max</th>\n",
       "      <td>60.000000</td>\n",
       "      <td>NaN</td>\n",
       "      <td>NaN</td>\n",
       "      <td>NaN</td>\n",
       "      <td>NaN</td>\n",
       "      <td>NaN</td>\n",
       "      <td>NaN</td>\n",
       "      <td>NaN</td>\n",
       "      <td>NaN</td>\n",
       "      <td>NaN</td>\n",
       "      <td>...</td>\n",
       "      <td>NaN</td>\n",
       "      <td>NaN</td>\n",
       "      <td>NaN</td>\n",
       "      <td>NaN</td>\n",
       "      <td>NaN</td>\n",
       "      <td>NaN</td>\n",
       "      <td>NaN</td>\n",
       "      <td>NaN</td>\n",
       "      <td>NaN</td>\n",
       "      <td>NaN</td>\n",
       "    </tr>\n",
       "  </tbody>\n",
       "</table>\n",
       "<p>11 rows × 23 columns</p>\n",
       "</div>"
      ],
      "text/plain": [
       "                Age Gender self_employed family_history treatment  \\\n",
       "count   1247.000000   1247          1247           1247      1247   \n",
       "unique          NaN      3             2              2         2   \n",
       "top             NaN   Male            No             No       Yes   \n",
       "freq            NaN    983          1107            759       630   \n",
       "mean      31.971131    NaN           NaN            NaN       NaN   \n",
       "std        7.052598    NaN           NaN            NaN       NaN   \n",
       "min       18.000000    NaN           NaN            NaN       NaN   \n",
       "25%       27.000000    NaN           NaN            NaN       NaN   \n",
       "50%       31.000000    NaN           NaN            NaN       NaN   \n",
       "75%       36.000000    NaN           NaN            NaN       NaN   \n",
       "max       60.000000    NaN           NaN            NaN       NaN   \n",
       "\n",
       "       work_interfere no_employees remote_work tech_company benefits  ...  \\\n",
       "count            1247         1247        1247         1247     1247  ...   \n",
       "unique              5            6           2            2        3  ...   \n",
       "top         Sometimes       26-100          No          Yes      Yes  ...   \n",
       "freq              463          288         879         1023      471  ...   \n",
       "mean              NaN          NaN         NaN          NaN      NaN  ...   \n",
       "std               NaN          NaN         NaN          NaN      NaN  ...   \n",
       "min               NaN          NaN         NaN          NaN      NaN  ...   \n",
       "25%               NaN          NaN         NaN          NaN      NaN  ...   \n",
       "50%               NaN          NaN         NaN          NaN      NaN  ...   \n",
       "75%               NaN          NaN         NaN          NaN      NaN  ...   \n",
       "max               NaN          NaN         NaN          NaN      NaN  ...   \n",
       "\n",
       "         anonymity       leave mental_health_consequence  \\\n",
       "count         1247        1247                      1247   \n",
       "unique           3           5                         3   \n",
       "top     Don't know  Don't know                        No   \n",
       "freq           811         560                       487   \n",
       "mean           NaN         NaN                       NaN   \n",
       "std            NaN         NaN                       NaN   \n",
       "min            NaN         NaN                       NaN   \n",
       "25%            NaN         NaN                       NaN   \n",
       "50%            NaN         NaN                       NaN   \n",
       "75%            NaN         NaN                       NaN   \n",
       "max            NaN         NaN                       NaN   \n",
       "\n",
       "       phys_health_consequence     coworkers supervisor  \\\n",
       "count                     1247          1247       1247   \n",
       "unique                       3             3          3   \n",
       "top                         No  Some of them        Yes   \n",
       "freq                       918           767        509   \n",
       "mean                       NaN           NaN        NaN   \n",
       "std                        NaN           NaN        NaN   \n",
       "min                        NaN           NaN        NaN   \n",
       "25%                        NaN           NaN        NaN   \n",
       "50%                        NaN           NaN        NaN   \n",
       "75%                        NaN           NaN        NaN   \n",
       "max                        NaN           NaN        NaN   \n",
       "\n",
       "       mental_health_interview phys_health_interview mental_vs_physical  \\\n",
       "count                     1247                  1247               1247   \n",
       "unique                       3                     3                  3   \n",
       "top                         No                 Maybe         Don't know   \n",
       "freq                      1000                   553                573   \n",
       "mean                       NaN                   NaN                NaN   \n",
       "std                        NaN                   NaN                NaN   \n",
       "min                        NaN                   NaN                NaN   \n",
       "25%                        NaN                   NaN                NaN   \n",
       "50%                        NaN                   NaN                NaN   \n",
       "75%                        NaN                   NaN                NaN   \n",
       "max                        NaN                   NaN                NaN   \n",
       "\n",
       "       obs_consequence  \n",
       "count             1247  \n",
       "unique               2  \n",
       "top                 No  \n",
       "freq              1068  \n",
       "mean               NaN  \n",
       "std                NaN  \n",
       "min                NaN  \n",
       "25%                NaN  \n",
       "50%                NaN  \n",
       "75%                NaN  \n",
       "max                NaN  \n",
       "\n",
       "[11 rows x 23 columns]"
      ]
     },
     "execution_count": 44,
     "metadata": {},
     "output_type": "execute_result"
    }
   ],
   "source": [
    "#Description of data\n",
    "data.describe(include='all')"
   ]
  },
  {
   "cell_type": "markdown",
   "metadata": {
    "id": "79i6tAgBbMSD"
   },
   "source": [
    "#Encoding"
   ]
  },
  {
   "cell_type": "code",
   "execution_count": 45,
   "metadata": {
    "id": "Fn31zOhtXP3Z"
   },
   "outputs": [],
   "source": [
    "obj_cols = ['Gender', 'self_employed', 'family_history', 'treatment',\n",
    "       'work_interfere', 'no_employees', 'remote_work', 'tech_company',\n",
    "       'benefits', 'care_options', 'wellness_program', 'seek_help',\n",
    "       'anonymity', 'leave', 'mental_health_consequence',\n",
    "       'phys_health_consequence', 'coworkers', 'supervisor',\n",
    "       'mental_health_interview', 'phys_health_interview',\n",
    "       'mental_vs_physical', 'obs_consequence']"
   ]
  },
  {
   "cell_type": "code",
   "execution_count": 46,
   "metadata": {
    "id": "vtiZqkVMBf39"
   },
   "outputs": [],
   "source": [
    "from sklearn.compose import ColumnTransformer\n",
    "from sklearn.preprocessing import LabelEncoder, OrdinalEncoder"
   ]
  },
  {
   "cell_type": "code",
   "execution_count": 47,
   "metadata": {
    "id": "kP314eO4TF7m"
   },
   "outputs": [],
   "source": [
    "#Dividing data into features and target\n",
    "X = data.drop('treatment', axis = 1)\n",
    "y = data['treatment']"
   ]
  },
  {
   "cell_type": "code",
   "execution_count": 48,
   "metadata": {
    "id": "kjFIiKTTBm_i"
   },
   "outputs": [],
   "source": [
    "#Ordinal encoding the categorical features\n",
    "ct = ColumnTransformer([('oe',OrdinalEncoder(),['Gender', 'self_employed', 'family_history',\n",
    "       'work_interfere', 'no_employees', 'remote_work', 'tech_company',\n",
    "       'benefits', 'care_options', 'wellness_program', 'seek_help',\n",
    "       'anonymity', 'leave', 'mental_health_consequence',\n",
    "       'phys_health_consequence', 'coworkers', 'supervisor',\n",
    "       'mental_health_interview', 'phys_health_interview',\n",
    "       'mental_vs_physical', 'obs_consequence'])],remainder='passthrough')"
   ]
  },
  {
   "cell_type": "code",
   "execution_count": 49,
   "metadata": {
    "id": "2kb9uSXGD1xl"
   },
   "outputs": [],
   "source": [
    "X = ct.fit_transform(X)"
   ]
  },
  {
   "cell_type": "code",
   "execution_count": 50,
   "metadata": {
    "id": "yoIPHBJrL9xU"
   },
   "outputs": [],
   "source": [
    "#Label encoding the target\n",
    "le = LabelEncoder()\n",
    "y = le.fit_transform(y)"
   ]
  },
  {
   "cell_type": "code",
   "execution_count": 51,
   "metadata": {
    "colab": {
     "base_uri": "https://localhost:8080/"
    },
    "id": "s5ABqLV1Bgbs",
    "outputId": "06e46e16-acbc-45e0-c2c5-238f2295ba64"
   },
   "outputs": [
    {
     "data": {
      "text/plain": [
       "array([[ 0.,  0.,  0., ...,  2.,  0., 37.],\n",
       "       [ 1.,  0.,  0., ...,  0.,  0., 44.],\n",
       "       [ 1.,  0.,  0., ...,  1.,  0., 32.],\n",
       "       ...,\n",
       "       [ 1.,  0.,  1., ...,  1.,  0., 34.],\n",
       "       [ 0.,  0.,  0., ...,  1.,  0., 46.],\n",
       "       [ 1.,  0.,  1., ...,  0.,  0., 25.]])"
      ]
     },
     "execution_count": 51,
     "metadata": {},
     "output_type": "execute_result"
    }
   ],
   "source": [
    "X"
   ]
  },
  {
   "cell_type": "code",
   "execution_count": 52,
   "metadata": {
    "colab": {
     "base_uri": "https://localhost:8080/"
    },
    "id": "HxBMKbr5b5LM",
    "outputId": "ec6987ee-8e92-4905-d071-b4c13cafd0ef"
   },
   "outputs": [
    {
     "data": {
      "text/plain": [
       "array([1, 0, 0, ..., 1, 0, 1])"
      ]
     },
     "execution_count": 52,
     "metadata": {},
     "output_type": "execute_result"
    }
   ],
   "source": [
    "y"
   ]
  },
  {
   "cell_type": "code",
   "execution_count": 53,
   "metadata": {
    "colab": {
     "base_uri": "https://localhost:8080/"
    },
    "id": "-HfLl4-bT3iA",
    "outputId": "fd55f4a0-6bd1-435c-f3a3-7a4f4403f895"
   },
   "outputs": [
    {
     "data": {
      "text/plain": [
       "(1247,)"
      ]
     },
     "execution_count": 53,
     "metadata": {},
     "output_type": "execute_result"
    }
   ],
   "source": [
    "y.shape"
   ]
  },
  {
   "cell_type": "code",
   "execution_count": 54,
   "metadata": {
    "colab": {
     "base_uri": "https://localhost:8080/"
    },
    "id": "dnwk49TzQ1t9",
    "outputId": "a83d7d70-b8c2-4490-ee1b-a5976767204c"
   },
   "outputs": [
    {
     "data": {
      "text/plain": [
       "['feature_values']"
      ]
     },
     "execution_count": 54,
     "metadata": {},
     "output_type": "execute_result"
    }
   ],
   "source": [
    "#Saving the column transformer instance\n",
    "import joblib\n",
    "joblib.dump(ct,'feature_values')"
   ]
  },
  {
   "cell_type": "markdown",
   "metadata": {
    "id": "ZDFNSMxoeI7X"
   },
   "source": [
    "Model Building"
   ]
  },
  {
   "cell_type": "code",
   "execution_count": 55,
   "metadata": {
    "id": "61enusFsdPIq"
   },
   "outputs": [],
   "source": [
    "#Splitting data into train and test in the ratio 7:3\n",
    "from sklearn.model_selection import train_test_split\n",
    "X_train, X_test, y_train, y_test = train_test_split(X,y,test_size=0.3, random_state=49)"
   ]
  },
  {
   "cell_type": "code",
   "execution_count": 56,
   "metadata": {
    "colab": {
     "base_uri": "https://localhost:8080/"
    },
    "id": "wJL_y0uwjSrl",
    "outputId": "c5d6eeb0-c949-4a15-f4de-0a9dbf7ae0fa"
   },
   "outputs": [
    {
     "data": {
      "text/plain": [
       "((872, 22), (375, 22), (872,), (375,))"
      ]
     },
     "execution_count": 56,
     "metadata": {},
     "output_type": "execute_result"
    }
   ],
   "source": [
    "X_train.shape, X_test.shape, y_train.shape, y_test.shape"
   ]
  },
  {
   "cell_type": "code",
   "execution_count": null,
   "metadata": {},
   "outputs": [],
   "source": []
  },
  {
   "cell_type": "code",
   "execution_count": 59,
   "metadata": {
    "id": "6lcDaYhocDia"
   },
   "outputs": [],
   "source": [
    "from sklearn.linear_model import LogisticRegression\n",
    "from sklearn.tree import DecisionTreeClassifier\n",
    "from sklearn.neighbors import KNeighborsClassifier\n",
    "from sklearn.ensemble import RandomForestClassifier, AdaBoostClassifier, GradientBoostingClassifier\n",
    "from xgboost.sklearn import XGBClassifier\n",
    "from sklearn import metrics\n",
    "from sklearn.metrics import accuracy_score, roc_curve, confusion_matrix, classification_report, auc"
   ]
  },
  {
   "cell_type": "code",
   "execution_count": 60,
   "metadata": {
    "id": "59yqU29eeTKc"
   },
   "outputs": [],
   "source": [
    "#Creating a dictionary of all models\n",
    "model_dict = {}\n",
    "\n",
    "model_dict['Logistic regression']= LogisticRegression(solver='liblinear',random_state=49)\n",
    "model_dict['KNN Classifier'] = KNeighborsClassifier()\n",
    "model_dict['Decision Tree Classifier'] = DecisionTreeClassifier(random_state=49)\n",
    "model_dict['Random Forest Classifier'] = RandomForestClassifier(random_state=49)\n",
    "model_dict['AdaBoost Classifier'] = AdaBoostClassifier(random_state=49)\n",
    "model_dict['Gradient Boosting Classifier'] = GradientBoostingClassifier(random_state=49)\n",
    "model_dict['XGB Classifier'] = XGBClassifier(random_state=49)"
   ]
  },
  {
   "cell_type": "code",
   "execution_count": 61,
   "metadata": {
    "id": "Du3z3XQQgiUW"
   },
   "outputs": [],
   "source": [
    "#function to print accuracy of all models\n",
    "def model_test(X_train, X_test, y_train, y_test,model,model_name):\n",
    "    model.fit(X_train,y_train)\n",
    "    y_pred = model.predict(X_test) \n",
    "    accuracy = accuracy_score(y_test,y_pred)\n",
    "    print('======================================{}======================================='.format(model_name))\n",
    "    print('Score is : {}'.format(accuracy))\n",
    "    \n",
    "    print()"
   ]
  },
  {
   "cell_type": "code",
   "execution_count": 62,
   "metadata": {
    "colab": {
     "base_uri": "https://localhost:8080/"
    },
    "id": "kRJKIHxzhE0U",
    "outputId": "c5c26807-84bb-45f0-f873-5f98280deb8f"
   },
   "outputs": [
    {
     "name": "stdout",
     "output_type": "stream",
     "text": [
      "======================================Logistic regression=======================================\n",
      "Score is : 0.848\n",
      "\n",
      "======================================KNN Classifier=======================================\n",
      "Score is : 0.776\n",
      "\n",
      "======================================Decision Tree Classifier=======================================\n",
      "Score is : 0.7946666666666666\n",
      "\n",
      "======================================Random Forest Classifier=======================================\n",
      "Score is : 0.8533333333333334\n",
      "\n",
      "======================================AdaBoost Classifier=======================================\n",
      "Score is : 0.864\n",
      "\n",
      "======================================Gradient Boosting Classifier=======================================\n",
      "Score is : 0.84\n",
      "\n",
      "======================================XGB Classifier=======================================\n",
      "Score is : 0.8106666666666666\n",
      "\n"
     ]
    }
   ],
   "source": [
    "for model_name,model in model_dict.items():\n",
    "    model_test(X_train, X_test, y_train, y_test, model, model_name)"
   ]
  },
  {
   "cell_type": "markdown",
   "metadata": {
    "id": "SassewfnsMO3"
   },
   "source": [
    "#AdaBoost"
   ]
  },
  {
   "cell_type": "code",
   "execution_count": 63,
   "metadata": {},
   "outputs": [
    {
     "name": "stdout",
     "output_type": "stream",
     "text": [
      "Accuracy of AdaBoost= 0.864\n"
     ]
    }
   ],
   "source": [
    "#Fitting data to AdaBoost classifier\n",
    "abc = AdaBoostClassifier(random_state=99)\n",
    "abc.fit(X_train,y_train)\n",
    "pred_abc = abc.predict(X_test)\n",
    "print('Accuracy of AdaBoost=',accuracy_score(y_test,pred_abc))"
   ]
  },
  {
   "cell_type": "code",
   "execution_count": 64,
   "metadata": {
    "colab": {
     "base_uri": "https://localhost:8080/",
     "height": 312
    },
    "id": "6pZxzs_ShM4c",
    "outputId": "76058668-af26-4781-888b-4d3de9936442"
   },
   "outputs": [
    {
     "data": {
      "text/plain": [
       "Text(33.0, 0.5, 'Actual')"
      ]
     },
     "execution_count": 64,
     "metadata": {},
     "output_type": "execute_result"
    },
    {
     "data": {
      "image/png": "[encoded data removed]",
      "text/plain": [
       "<Figure size 432x288 with 2 Axes>"
      ]
     },
     "metadata": {
      "needs_background": "light"
     },
     "output_type": "display_data"
    }
   ],
   "source": [
    "#Plotting confusion matrix\n",
    "cf_matrix = confusion_matrix(y_test, pred_abc)\n",
    "sb.heatmap(cf_matrix/np.sum(cf_matrix), annot=True, fmt='.2%')\n",
    "plt.title('Confusion Matrix of AdaBoost Classifier')\n",
    "plt.xlabel('Predicted')\n",
    "plt.ylabel('Actual')"
   ]
  },
  {
   "cell_type": "code",
   "execution_count": 65,
   "metadata": {
    "colab": {
     "base_uri": "https://localhost:8080/",
     "height": 347
    },
    "id": "IfWfH_o7io5s",
    "outputId": "1aa4e3fd-d734-45ee-8161-5fbcf089ce7b"
   },
   "outputs": [
    {
     "data": {
      "image/png": "[encoded data removed]",
      "text/plain": [
       "<Figure size 432x288 with 1 Axes>"
      ]
     },
     "metadata": {
      "needs_background": "light"
     },
     "output_type": "display_data"
    },
    {
     "data": {
      "text/plain": [
       "(array([0.       , 0.1827957, 1.       ]),\n",
       " array([0.        , 0.91005291, 1.        ]),\n",
       " array([2, 1, 0]))"
      ]
     },
     "execution_count": 65,
     "metadata": {},
     "output_type": "execute_result"
    }
   ],
   "source": [
    "#Plotting ROC curve\n",
    "fpr_abc, tpr_abc, thresholds_abc = roc_curve(y_test, pred_abc)\n",
    "roc_auc_abc = metrics.auc(fpr_abc, tpr_abc)\n",
    "plt.plot(fpr_abc, tpr_abc, color='orange', label='ROC curve (area = %0.2f)' % roc_auc_abc)\n",
    "plt.plot([0, 1], [0, 1], color='blue', linestyle='--')\n",
    "plt.xlim([0.0, 1.0])\n",
    "plt.ylim([0.0, 1.0])\n",
    "plt.title('ROC Curve')\n",
    "plt.xlabel('False Positive Rate (1 - Specificity)')\n",
    "plt.ylabel('True Positive Rate (Sensitivity)')\n",
    "plt.legend(loc=\"lower right\")\n",
    "plt.show()\n",
    "roc_curve(y_test, pred_abc)"
   ]
  },
  {
   "cell_type": "code",
   "execution_count": 66,
   "metadata": {},
   "outputs": [
    {
     "name": "stdout",
     "output_type": "stream",
     "text": [
      "              precision    recall  f1-score   support\n",
      "\n",
      "           0       0.90      0.82      0.86       186\n",
      "           1       0.83      0.91      0.87       189\n",
      "\n",
      "    accuracy                           0.86       375\n",
      "   macro avg       0.87      0.86      0.86       375\n",
      "weighted avg       0.87      0.86      0.86       375\n",
      "\n"
     ]
    }
   ],
   "source": [
    "#Printing classification report\n",
    "print(classification_report(y_test,pred_abc))"
   ]
  },
  {
   "cell_type": "markdown",
   "metadata": {
    "id": "MvEAmbNfkd9n"
   },
   "source": [
    "#Tuning - AdaBoost"
   ]
  },
  {
   "cell_type": "code",
   "execution_count": 67,
   "metadata": {
    "id": "fC_71dNqjMxq"
   },
   "outputs": [],
   "source": [
    "#Hyperparameter tuning using RandomizedSearchCV\n",
    "from sklearn.model_selection import RandomizedSearchCV\n",
    "params_abc = {'n_estimators': [int(x) for x in np.linspace(start = 1, stop = 50, num = 15)],\n",
    "          'learning_rate': [(0.97 + x / 100) for x in range(0, 8)],\n",
    "          }\n",
    "abc_random = RandomizedSearchCV(random_state=49,estimator=abc,param_distributions = params_abc,n_iter =50,cv=5,n_jobs=-1)\n"
   ]
  },
  {
   "cell_type": "code",
   "execution_count": 68,
   "metadata": {
    "colab": {
     "base_uri": "https://localhost:8080/"
    },
    "id": "HfHRWQxNn0FX",
    "outputId": "c131f22b-79cc-4576-80dc-4a751b556cb6"
   },
   "outputs": [
    {
     "data": {
      "text/plain": [
       "{'n_estimators': [1, 4, 8, 11, 15, 18, 22, 25, 29, 32, 36, 39, 43, 46, 50],\n",
       " 'learning_rate': [0.97, 0.98, 0.99, 1.0, 1.01, 1.02, 1.03, 1.04]}"
      ]
     },
     "execution_count": 68,
     "metadata": {},
     "output_type": "execute_result"
    }
   ],
   "source": [
    "params_abc"
   ]
  },
  {
   "cell_type": "code",
   "execution_count": 69,
   "metadata": {
    "colab": {
     "base_uri": "https://localhost:8080/"
    },
    "id": "mw_RYRCvng_J",
    "outputId": "0b16f179-7b3f-47ee-8fcf-e987f87f1709"
   },
   "outputs": [
    {
     "data": {
      "text/plain": [
       "RandomizedSearchCV(cv=5, estimator=AdaBoostClassifier(random_state=99),\n",
       "                   n_iter=50, n_jobs=-1,\n",
       "                   param_distributions={'learning_rate': [0.97, 0.98, 0.99, 1.0,\n",
       "                                                          1.01, 1.02, 1.03,\n",
       "                                                          1.04],\n",
       "                                        'n_estimators': [1, 4, 8, 11, 15, 18,\n",
       "                                                         22, 25, 29, 32, 36, 39,\n",
       "                                                         43, 46, 50]},\n",
       "                   random_state=49)"
      ]
     },
     "execution_count": 69,
     "metadata": {},
     "output_type": "execute_result"
    }
   ],
   "source": [
    "abc_random.fit(X_train,y_train)"
   ]
  },
  {
   "cell_type": "code",
   "execution_count": 70,
   "metadata": {
    "colab": {
     "base_uri": "https://localhost:8080/"
    },
    "id": "6us3LOXxnkeK",
    "outputId": "a9b3c554-08fe-4caf-9c08-3715c66dc2e5"
   },
   "outputs": [
    {
     "data": {
      "text/plain": [
       "{'n_estimators': 11, 'learning_rate': 1.02}"
      ]
     },
     "execution_count": 70,
     "metadata": {},
     "output_type": "execute_result"
    }
   ],
   "source": [
    "abc_random.best_params_"
   ]
  },
  {
   "cell_type": "code",
   "execution_count": 71,
   "metadata": {
    "id": "YwEH2tjUnpAt"
   },
   "outputs": [
    {
     "name": "stdout",
     "output_type": "stream",
     "text": [
      "Accuracy of AdaBoost(tuned)= 0.8693333333333333\n"
     ]
    }
   ],
   "source": [
    "#Fitting data to tuned model\n",
    "abc_tuned = AdaBoostClassifier(random_state=49,n_estimators=11, learning_rate=1.02)\n",
    "abc_tuned.fit(X_train,y_train)\n",
    "pred_abc_tuned = abc_tuned.predict(X_test)\n",
    "print('Accuracy of AdaBoost(tuned)=',accuracy_score(y_test,pred_abc_tuned))"
   ]
  },
  {
   "cell_type": "code",
   "execution_count": 72,
   "metadata": {
    "colab": {
     "base_uri": "https://localhost:8080/",
     "height": 312
    },
    "id": "gCVxyYmjpdTk",
    "outputId": "09178dbe-528c-4fb1-82f0-d2a6efe6e506"
   },
   "outputs": [
    {
     "data": {
      "text/plain": [
       "Text(33.0, 0.5, 'Actual')"
      ]
     },
     "execution_count": 72,
     "metadata": {},
     "output_type": "execute_result"
    },
    {
     "data": {
      "image/png": "[encoded data removed]",
      "text/plain": [
       "<Figure size 432x288 with 2 Axes>"
      ]
     },
     "metadata": {
      "needs_background": "light"
     },
     "output_type": "display_data"
    }
   ],
   "source": [
    "cf_matrix = confusion_matrix(y_test, pred_abc_tuned)\n",
    "sb.heatmap(cf_matrix/np.sum(cf_matrix), annot=True, fmt='.2%')\n",
    "plt.title('Confusion Matrix of AdaBoost Classifier after tuning')\n",
    "plt.xlabel('Predicted')\n",
    "plt.ylabel('Actual')"
   ]
  },
  {
   "cell_type": "code",
   "execution_count": 73,
   "metadata": {
    "colab": {
     "base_uri": "https://localhost:8080/",
     "height": 347
    },
    "id": "lVtPnHJ5pqTB",
    "outputId": "25235218-b411-4c52-cad2-913eaf0be43b"
   },
   "outputs": [
    {
     "data": {
      "image/png": "[encoded data removed]",
      "text/plain": [
       "<Figure size 432x288 with 1 Axes>"
      ]
     },
     "metadata": {
      "needs_background": "light"
     },
     "output_type": "display_data"
    },
    {
     "data": {
      "text/plain": [
       "(array([0.        , 0.17204301, 1.        ]),\n",
       " array([0.        , 0.91005291, 1.        ]),\n",
       " array([2, 1, 0]))"
      ]
     },
     "execution_count": 73,
     "metadata": {},
     "output_type": "execute_result"
    }
   ],
   "source": [
    "fpr_abc_tuned, tpr_abc_tuned, thresholds_abc_tuned = roc_curve(y_test, pred_abc_tuned)\n",
    "roc_auc_abc_tuned = metrics.auc(fpr_abc_tuned, tpr_abc_tuned)\n",
    "plt.plot(fpr_abc_tuned, tpr_abc_tuned, color='orange', label='ROC curve (area = %0.2f)' % roc_auc_abc_tuned)\n",
    "plt.plot([0, 1], [0, 1], color='blue', linestyle='--')\n",
    "plt.xlim([0.0, 1.0])\n",
    "plt.ylim([0.0, 1.0])\n",
    "plt.title('ROC Curve')\n",
    "plt.xlabel('False Positive Rate (1 - Specificity)')\n",
    "plt.ylabel('True Positive Rate (Sensitivity)')\n",
    "plt.legend(loc=\"lower right\")\n",
    "plt.show()\n",
    "roc_curve(y_test, pred_abc_tuned)"
   ]
  },
  {
   "cell_type": "code",
   "execution_count": 74,
   "metadata": {},
   "outputs": [
    {
     "name": "stdout",
     "output_type": "stream",
     "text": [
      "              precision    recall  f1-score   support\n",
      "\n",
      "           0       0.90      0.83      0.86       186\n",
      "           1       0.84      0.91      0.88       189\n",
      "\n",
      "    accuracy                           0.87       375\n",
      "   macro avg       0.87      0.87      0.87       375\n",
      "weighted avg       0.87      0.87      0.87       375\n",
      "\n"
     ]
    }
   ],
   "source": [
    "print(classification_report(y_test,pred_abc_tuned))"
   ]
  },
  {
   "cell_type": "code",
   "execution_count": 75,
   "metadata": {
    "id": "Epkg9VyMZOve"
   },
   "outputs": [],
   "source": [
    "feature_cols = ['Age', 'Gender', 'self_employed', 'family_history',\n",
    "       'work_interfere', 'no_employees', 'remote_work', 'tech_company',\n",
    "       'benefits', 'care_options', 'wellness_program', 'seek_help',\n",
    "       'anonymity', 'leave', 'mental_health_consequence',\n",
    "       'phys_health_consequence', 'coworkers', 'supervisor',\n",
    "       'mental_health_interview', 'phys_health_interview',\n",
    "       'mental_vs_physical', 'obs_consequence']"
   ]
  },
  {
   "cell_type": "code",
   "execution_count": 76,
   "metadata": {
    "id": "bkgcIFrcQqKZ"
   },
   "outputs": [],
   "source": [
    "new = joblib.load('feature_values')"
   ]
  },
  {
   "cell_type": "code",
   "execution_count": 77,
   "metadata": {
    "id": "2A3ziHuRRLJK"
   },
   "outputs": [],
   "source": [
    "#Testing with custom input\n",
    "#p = new.transform(pd.DataFrame([[25,'Female','Yes','Yes','Never','1-5','Yes','No','Yes','Yes','No','No','Yes','Somewhat difficult','Maybe','No','Some of them','Yes','No','Yes','No','Yes']],columns=feature_cols))"
   ]
  },
  {
   "cell_type": "code",
   "execution_count": 78,
   "metadata": {
    "colab": {
     "base_uri": "https://localhost:8080/"
    },
    "id": "7VM_FBvufunM",
    "outputId": "661e3e86-97a8-4a28-b8c5-820f8df3cf4c"
   },
   "outputs": [],
   "source": [
    "#abc_tuned.predict(p)"
   ]
  },
  {
   "cell_type": "code",
   "execution_count": 79,
   "metadata": {
    "id": "glAv4ExE-nlx"
   },
   "outputs": [],
   "source": [
    "#saving model\n",
    "import pickle\n",
    "pickle.dump(abc_tuned,open('model.pkl','wb'))"
   ]
  },
  {
   "cell_type": "code",
   "execution_count": null,
   "metadata": {},
   "outputs": [],
   "source": []
  },
  {
   "cell_type": "code",
   "execution_count": null,
   "metadata": {},
   "outputs": [],
   "source": []
  },
  {
   "cell_type": "code",
   "execution_count": null,
   "metadata": {},
   "outputs": [],
   "source": []
  },
  {
   "cell_type": "code",
   "execution_count": null,
   "metadata": {},
   "outputs": [],
   "source": []
  },
  {
   "cell_type": "code",
   "execution_count": null,
   "metadata": {},
   "outputs": [],
   "source": []
  },
  {
   "cell_type": "code",
   "execution_count": null,
   "metadata": {},
   "outputs": [],
   "source": []
  }
 ],
 "metadata": {
  "colab": {
   "name": "MentalHealth.ipynb",
   "provenance": []
  },
  "kernelspec": {
   "display_name": "Python 3",
   "language": "python",
   "name": "python3"
  },
  "language_info": {
   "codemirror_mode": {
    "name": "ipython",
    "version": 3
   },
   "file_extension": ".py",
   "mimetype": "text/x-python",
   "name": "python",
   "nbconvert_exporter": "python",
   "pygments_lexer": "ipython3",
   "version": "3.8.8"
  }
 },
 "nbformat": 4,
 "nbformat_minor": 1
}
